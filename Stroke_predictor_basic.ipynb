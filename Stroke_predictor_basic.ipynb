{
  "nbformat": 4,
  "nbformat_minor": 0,
  "metadata": {
    "colab": {
      "name": "Stroke_predictor_basic.ipynb",
      "provenance": [],
      "toc_visible": true,
      "include_colab_link": true
    },
    "kernelspec": {
      "name": "python3",
      "display_name": "Python 3"
    },
    "language_info": {
      "name": "python"
    },
    "accelerator": "GPU"
  },
  "cells": [
    {
      "cell_type": "markdown",
      "metadata": {
        "id": "view-in-github",
        "colab_type": "text"
      },
      "source": [
        "<a href=\"https://colab.research.google.com/github/neoNEMES1S/Stroke-Predictor-Basic/blob/main/Stroke_predictor_basic.ipynb\" target=\"_parent\"><img src=\"https://colab.research.google.com/assets/colab-badge.svg\" alt=\"Open In Colab\"/></a>"
      ]
    },
    {
      "cell_type": "markdown",
      "metadata": {
        "id": "z3vzabJ0eh3E"
      },
      "source": [
        "**Importing necessary Modules and Libraries**\n"
      ]
    },
    {
      "cell_type": "code",
      "metadata": {
        "id": "ODXkComvfEyy"
      },
      "source": [
        "import numpy as np\n",
        "import pandas as pd\n",
        "import matplotlib.pyplot as pt"
      ],
      "execution_count": null,
      "outputs": []
    },
    {
      "cell_type": "markdown",
      "metadata": {
        "id": "cWWNfdyre6zo"
      },
      "source": [
        "**Reading the data**"
      ]
    },
    {
      "cell_type": "code",
      "metadata": {
        "id": "T62lPMcJu7fh"
      },
      "source": [
        "data=pd.read_csv(\"healthcare-dataset-stroke-data.csv\")"
      ],
      "execution_count": null,
      "outputs": []
    },
    {
      "cell_type": "code",
      "metadata": {
        "colab": {
          "base_uri": "https://localhost:8080/",
          "height": 363
        },
        "id": "haRpPhS3whdX",
        "outputId": "b0bb0365-f498-4819-cffc-c7c3a87a8f7a"
      },
      "source": [
        "data.head(10)"
      ],
      "execution_count": null,
      "outputs": [
        {
          "output_type": "execute_result",
          "data": {
            "text/html": [
              "<div>\n",
              "<style scoped>\n",
              "    .dataframe tbody tr th:only-of-type {\n",
              "        vertical-align: middle;\n",
              "    }\n",
              "\n",
              "    .dataframe tbody tr th {\n",
              "        vertical-align: top;\n",
              "    }\n",
              "\n",
              "    .dataframe thead th {\n",
              "        text-align: right;\n",
              "    }\n",
              "</style>\n",
              "<table border=\"1\" class=\"dataframe\">\n",
              "  <thead>\n",
              "    <tr style=\"text-align: right;\">\n",
              "      <th></th>\n",
              "      <th>id</th>\n",
              "      <th>gender</th>\n",
              "      <th>age</th>\n",
              "      <th>hypertension</th>\n",
              "      <th>heart_disease</th>\n",
              "      <th>ever_married</th>\n",
              "      <th>work_type</th>\n",
              "      <th>Residence_type</th>\n",
              "      <th>avg_glucose_level</th>\n",
              "      <th>bmi</th>\n",
              "      <th>smoking_status</th>\n",
              "      <th>stroke</th>\n",
              "    </tr>\n",
              "  </thead>\n",
              "  <tbody>\n",
              "    <tr>\n",
              "      <th>0</th>\n",
              "      <td>9046</td>\n",
              "      <td>Male</td>\n",
              "      <td>67.0</td>\n",
              "      <td>0</td>\n",
              "      <td>1</td>\n",
              "      <td>Yes</td>\n",
              "      <td>Private</td>\n",
              "      <td>Urban</td>\n",
              "      <td>228.69</td>\n",
              "      <td>36.6</td>\n",
              "      <td>formerly smoked</td>\n",
              "      <td>1</td>\n",
              "    </tr>\n",
              "    <tr>\n",
              "      <th>1</th>\n",
              "      <td>51676</td>\n",
              "      <td>Female</td>\n",
              "      <td>61.0</td>\n",
              "      <td>0</td>\n",
              "      <td>0</td>\n",
              "      <td>Yes</td>\n",
              "      <td>Self-employed</td>\n",
              "      <td>Rural</td>\n",
              "      <td>202.21</td>\n",
              "      <td>NaN</td>\n",
              "      <td>never smoked</td>\n",
              "      <td>1</td>\n",
              "    </tr>\n",
              "    <tr>\n",
              "      <th>2</th>\n",
              "      <td>31112</td>\n",
              "      <td>Male</td>\n",
              "      <td>80.0</td>\n",
              "      <td>0</td>\n",
              "      <td>1</td>\n",
              "      <td>Yes</td>\n",
              "      <td>Private</td>\n",
              "      <td>Rural</td>\n",
              "      <td>105.92</td>\n",
              "      <td>32.5</td>\n",
              "      <td>never smoked</td>\n",
              "      <td>1</td>\n",
              "    </tr>\n",
              "    <tr>\n",
              "      <th>3</th>\n",
              "      <td>60182</td>\n",
              "      <td>Female</td>\n",
              "      <td>49.0</td>\n",
              "      <td>0</td>\n",
              "      <td>0</td>\n",
              "      <td>Yes</td>\n",
              "      <td>Private</td>\n",
              "      <td>Urban</td>\n",
              "      <td>171.23</td>\n",
              "      <td>34.4</td>\n",
              "      <td>smokes</td>\n",
              "      <td>1</td>\n",
              "    </tr>\n",
              "    <tr>\n",
              "      <th>4</th>\n",
              "      <td>1665</td>\n",
              "      <td>Female</td>\n",
              "      <td>79.0</td>\n",
              "      <td>1</td>\n",
              "      <td>0</td>\n",
              "      <td>Yes</td>\n",
              "      <td>Self-employed</td>\n",
              "      <td>Rural</td>\n",
              "      <td>174.12</td>\n",
              "      <td>24.0</td>\n",
              "      <td>never smoked</td>\n",
              "      <td>1</td>\n",
              "    </tr>\n",
              "    <tr>\n",
              "      <th>5</th>\n",
              "      <td>56669</td>\n",
              "      <td>Male</td>\n",
              "      <td>81.0</td>\n",
              "      <td>0</td>\n",
              "      <td>0</td>\n",
              "      <td>Yes</td>\n",
              "      <td>Private</td>\n",
              "      <td>Urban</td>\n",
              "      <td>186.21</td>\n",
              "      <td>29.0</td>\n",
              "      <td>formerly smoked</td>\n",
              "      <td>1</td>\n",
              "    </tr>\n",
              "    <tr>\n",
              "      <th>6</th>\n",
              "      <td>53882</td>\n",
              "      <td>Male</td>\n",
              "      <td>74.0</td>\n",
              "      <td>1</td>\n",
              "      <td>1</td>\n",
              "      <td>Yes</td>\n",
              "      <td>Private</td>\n",
              "      <td>Rural</td>\n",
              "      <td>70.09</td>\n",
              "      <td>27.4</td>\n",
              "      <td>never smoked</td>\n",
              "      <td>1</td>\n",
              "    </tr>\n",
              "    <tr>\n",
              "      <th>7</th>\n",
              "      <td>10434</td>\n",
              "      <td>Female</td>\n",
              "      <td>69.0</td>\n",
              "      <td>0</td>\n",
              "      <td>0</td>\n",
              "      <td>No</td>\n",
              "      <td>Private</td>\n",
              "      <td>Urban</td>\n",
              "      <td>94.39</td>\n",
              "      <td>22.8</td>\n",
              "      <td>never smoked</td>\n",
              "      <td>1</td>\n",
              "    </tr>\n",
              "    <tr>\n",
              "      <th>8</th>\n",
              "      <td>27419</td>\n",
              "      <td>Female</td>\n",
              "      <td>59.0</td>\n",
              "      <td>0</td>\n",
              "      <td>0</td>\n",
              "      <td>Yes</td>\n",
              "      <td>Private</td>\n",
              "      <td>Rural</td>\n",
              "      <td>76.15</td>\n",
              "      <td>NaN</td>\n",
              "      <td>Unknown</td>\n",
              "      <td>1</td>\n",
              "    </tr>\n",
              "    <tr>\n",
              "      <th>9</th>\n",
              "      <td>60491</td>\n",
              "      <td>Female</td>\n",
              "      <td>78.0</td>\n",
              "      <td>0</td>\n",
              "      <td>0</td>\n",
              "      <td>Yes</td>\n",
              "      <td>Private</td>\n",
              "      <td>Urban</td>\n",
              "      <td>58.57</td>\n",
              "      <td>24.2</td>\n",
              "      <td>Unknown</td>\n",
              "      <td>1</td>\n",
              "    </tr>\n",
              "  </tbody>\n",
              "</table>\n",
              "</div>"
            ],
            "text/plain": [
              "      id  gender   age  ...   bmi   smoking_status stroke\n",
              "0   9046    Male  67.0  ...  36.6  formerly smoked      1\n",
              "1  51676  Female  61.0  ...   NaN     never smoked      1\n",
              "2  31112    Male  80.0  ...  32.5     never smoked      1\n",
              "3  60182  Female  49.0  ...  34.4           smokes      1\n",
              "4   1665  Female  79.0  ...  24.0     never smoked      1\n",
              "5  56669    Male  81.0  ...  29.0  formerly smoked      1\n",
              "6  53882    Male  74.0  ...  27.4     never smoked      1\n",
              "7  10434  Female  69.0  ...  22.8     never smoked      1\n",
              "8  27419  Female  59.0  ...   NaN          Unknown      1\n",
              "9  60491  Female  78.0  ...  24.2          Unknown      1\n",
              "\n",
              "[10 rows x 12 columns]"
            ]
          },
          "metadata": {
            "tags": []
          },
          "execution_count": 3
        }
      ]
    },
    {
      "cell_type": "code",
      "metadata": {
        "colab": {
          "base_uri": "https://localhost:8080/"
        },
        "id": "AVbbogeVv7av",
        "outputId": "f3510454-896a-4cd5-94dd-97afef706f97"
      },
      "source": [
        "data.info()"
      ],
      "execution_count": null,
      "outputs": [
        {
          "output_type": "stream",
          "text": [
            "<class 'pandas.core.frame.DataFrame'>\n",
            "RangeIndex: 5110 entries, 0 to 5109\n",
            "Data columns (total 12 columns):\n",
            " #   Column             Non-Null Count  Dtype  \n",
            "---  ------             --------------  -----  \n",
            " 0   id                 5110 non-null   int64  \n",
            " 1   gender             5110 non-null   object \n",
            " 2   age                5110 non-null   float64\n",
            " 3   hypertension       5110 non-null   int64  \n",
            " 4   heart_disease      5110 non-null   int64  \n",
            " 5   ever_married       5110 non-null   object \n",
            " 6   work_type          5110 non-null   object \n",
            " 7   Residence_type     5110 non-null   object \n",
            " 8   avg_glucose_level  5110 non-null   float64\n",
            " 9   bmi                4909 non-null   float64\n",
            " 10  smoking_status     5110 non-null   object \n",
            " 11  stroke             5110 non-null   int64  \n",
            "dtypes: float64(3), int64(4), object(5)\n",
            "memory usage: 479.2+ KB\n"
          ],
          "name": "stdout"
        }
      ]
    },
    {
      "cell_type": "markdown",
      "metadata": {
        "id": "j9_-BndcfGWv"
      },
      "source": [
        "**Data Analysing**"
      ]
    },
    {
      "cell_type": "code",
      "metadata": {
        "id": "KvV9MiUhwDGX"
      },
      "source": [
        "new_data=data.drop(columns=['id'])"
      ],
      "execution_count": null,
      "outputs": []
    },
    {
      "cell_type": "code",
      "metadata": {
        "colab": {
          "base_uri": "https://localhost:8080/",
          "height": 237
        },
        "id": "8tN2SPtQjCav",
        "outputId": "554ca883-6bd0-4a22-bd9a-ef4f94228fbe"
      },
      "source": [
        "new_data.head(6)"
      ],
      "execution_count": null,
      "outputs": [
        {
          "output_type": "execute_result",
          "data": {
            "text/html": [
              "<div>\n",
              "<style scoped>\n",
              "    .dataframe tbody tr th:only-of-type {\n",
              "        vertical-align: middle;\n",
              "    }\n",
              "\n",
              "    .dataframe tbody tr th {\n",
              "        vertical-align: top;\n",
              "    }\n",
              "\n",
              "    .dataframe thead th {\n",
              "        text-align: right;\n",
              "    }\n",
              "</style>\n",
              "<table border=\"1\" class=\"dataframe\">\n",
              "  <thead>\n",
              "    <tr style=\"text-align: right;\">\n",
              "      <th></th>\n",
              "      <th>gender</th>\n",
              "      <th>age</th>\n",
              "      <th>hypertension</th>\n",
              "      <th>heart_disease</th>\n",
              "      <th>ever_married</th>\n",
              "      <th>work_type</th>\n",
              "      <th>Residence_type</th>\n",
              "      <th>avg_glucose_level</th>\n",
              "      <th>bmi</th>\n",
              "      <th>smoking_status</th>\n",
              "      <th>stroke</th>\n",
              "    </tr>\n",
              "  </thead>\n",
              "  <tbody>\n",
              "    <tr>\n",
              "      <th>0</th>\n",
              "      <td>Male</td>\n",
              "      <td>67.0</td>\n",
              "      <td>0</td>\n",
              "      <td>1</td>\n",
              "      <td>Yes</td>\n",
              "      <td>Private</td>\n",
              "      <td>Urban</td>\n",
              "      <td>228.69</td>\n",
              "      <td>36.6</td>\n",
              "      <td>formerly smoked</td>\n",
              "      <td>1</td>\n",
              "    </tr>\n",
              "    <tr>\n",
              "      <th>1</th>\n",
              "      <td>Female</td>\n",
              "      <td>61.0</td>\n",
              "      <td>0</td>\n",
              "      <td>0</td>\n",
              "      <td>Yes</td>\n",
              "      <td>Self-employed</td>\n",
              "      <td>Rural</td>\n",
              "      <td>202.21</td>\n",
              "      <td>NaN</td>\n",
              "      <td>never smoked</td>\n",
              "      <td>1</td>\n",
              "    </tr>\n",
              "    <tr>\n",
              "      <th>2</th>\n",
              "      <td>Male</td>\n",
              "      <td>80.0</td>\n",
              "      <td>0</td>\n",
              "      <td>1</td>\n",
              "      <td>Yes</td>\n",
              "      <td>Private</td>\n",
              "      <td>Rural</td>\n",
              "      <td>105.92</td>\n",
              "      <td>32.5</td>\n",
              "      <td>never smoked</td>\n",
              "      <td>1</td>\n",
              "    </tr>\n",
              "    <tr>\n",
              "      <th>3</th>\n",
              "      <td>Female</td>\n",
              "      <td>49.0</td>\n",
              "      <td>0</td>\n",
              "      <td>0</td>\n",
              "      <td>Yes</td>\n",
              "      <td>Private</td>\n",
              "      <td>Urban</td>\n",
              "      <td>171.23</td>\n",
              "      <td>34.4</td>\n",
              "      <td>smokes</td>\n",
              "      <td>1</td>\n",
              "    </tr>\n",
              "    <tr>\n",
              "      <th>4</th>\n",
              "      <td>Female</td>\n",
              "      <td>79.0</td>\n",
              "      <td>1</td>\n",
              "      <td>0</td>\n",
              "      <td>Yes</td>\n",
              "      <td>Self-employed</td>\n",
              "      <td>Rural</td>\n",
              "      <td>174.12</td>\n",
              "      <td>24.0</td>\n",
              "      <td>never smoked</td>\n",
              "      <td>1</td>\n",
              "    </tr>\n",
              "    <tr>\n",
              "      <th>5</th>\n",
              "      <td>Male</td>\n",
              "      <td>81.0</td>\n",
              "      <td>0</td>\n",
              "      <td>0</td>\n",
              "      <td>Yes</td>\n",
              "      <td>Private</td>\n",
              "      <td>Urban</td>\n",
              "      <td>186.21</td>\n",
              "      <td>29.0</td>\n",
              "      <td>formerly smoked</td>\n",
              "      <td>1</td>\n",
              "    </tr>\n",
              "  </tbody>\n",
              "</table>\n",
              "</div>"
            ],
            "text/plain": [
              "   gender   age  hypertension  ...   bmi   smoking_status stroke\n",
              "0    Male  67.0             0  ...  36.6  formerly smoked      1\n",
              "1  Female  61.0             0  ...   NaN     never smoked      1\n",
              "2    Male  80.0             0  ...  32.5     never smoked      1\n",
              "3  Female  49.0             0  ...  34.4           smokes      1\n",
              "4  Female  79.0             1  ...  24.0     never smoked      1\n",
              "5    Male  81.0             0  ...  29.0  formerly smoked      1\n",
              "\n",
              "[6 rows x 11 columns]"
            ]
          },
          "metadata": {
            "tags": []
          },
          "execution_count": 6
        }
      ]
    },
    {
      "cell_type": "code",
      "metadata": {
        "id": "P74hAU26xaPj"
      },
      "source": [
        "def bar_plot(variable):\n",
        "\n",
        "    var = new_data[variable]\n",
        "    varValue = var.value_counts()\n",
        "    \n",
        "    pt.figure(figsize = (9,3))\n",
        "    pt.bar(varValue.index, varValue)\n",
        "    pt.xticks(varValue.index, varValue.index.values)\n",
        "    pt.ylabel(\"Frequency\")\n",
        "    pt.title(variable)\n",
        "    pt.show()\n",
        "    print(\"{}:\\n{}\".format(variable,varValue))"
      ],
      "execution_count": null,
      "outputs": []
    },
    {
      "cell_type": "code",
      "metadata": {
        "colab": {
          "base_uri": "https://localhost:8080/"
        },
        "id": "CiANNu_6xk85",
        "outputId": "aad7022c-42f3-47ee-c38d-47c04d326d3d"
      },
      "source": [
        "categorical = (new_data.dtypes == \"object\")\n",
        "categorical_list = list(categorical[categorical].index)\n",
        "\n",
        "print(\"Categorical variables:\")\n",
        "print(categorical_list)"
      ],
      "execution_count": null,
      "outputs": [
        {
          "output_type": "stream",
          "text": [
            "Categorical variables:\n",
            "['gender', 'ever_married', 'work_type', 'Residence_type', 'smoking_status']\n"
          ],
          "name": "stdout"
        }
      ]
    },
    {
      "cell_type": "code",
      "metadata": {
        "colab": {
          "base_uri": "https://localhost:8080/",
          "height": 1000
        },
        "id": "IWEjMNwnyBKZ",
        "outputId": "cc66547d-2428-4470-c042-0c090a1a2b00"
      },
      "source": [
        "categorical_variables = ['gender', 'ever_married', 'work_type', 'Residence_type', 'smoking_status']\n",
        "for c in categorical_variables:\n",
        "    bar_plot(c)"
      ],
      "execution_count": null,
      "outputs": [
        {
          "output_type": "display_data",
          "data": {
            "image/png": "[encoded data removed]",
            "text/plain": [
              "<Figure size 648x216 with 1 Axes>"
            ]
          },
          "metadata": {
            "tags": [],
            "needs_background": "light"
          }
        },
        {
          "output_type": "stream",
          "text": [
            "gender:\n",
            "Female    2994\n",
            "Male      2115\n",
            "Other        1\n",
            "Name: gender, dtype: int64\n"
          ],
          "name": "stdout"
        },
        {
          "output_type": "display_data",
          "data": {
            "image/png": "[encoded data removed]",
            "text/plain": [
              "<Figure size 648x216 with 1 Axes>"
            ]
          },
          "metadata": {
            "tags": [],
            "needs_background": "light"
          }
        },
        {
          "output_type": "stream",
          "text": [
            "ever_married:\n",
            "Yes    3353\n",
            "No     1757\n",
            "Name: ever_married, dtype: int64\n"
          ],
          "name": "stdout"
        },
        {
          "output_type": "display_data",
          "data": {
            "image/png": "[encoded data removed]",
            "text/plain": [
              "<Figure size 648x216 with 1 Axes>"
            ]
          },
          "metadata": {
            "tags": [],
            "needs_background": "light"
          }
        },
        {
          "output_type": "stream",
          "text": [
            "work_type:\n",
            "Private          2925\n",
            "Self-employed     819\n",
            "children          687\n",
            "Govt_job          657\n",
            "Never_worked       22\n",
            "Name: work_type, dtype: int64\n"
          ],
          "name": "stdout"
        },
        {
          "output_type": "display_data",
          "data": {
            "image/png": "[encoded data removed]",
            "text/plain": [
              "<Figure size 648x216 with 1 Axes>"
            ]
          },
          "metadata": {
            "tags": [],
            "needs_background": "light"
          }
        },
        {
          "output_type": "stream",
          "text": [
            "Residence_type:\n",
            "Urban    2596\n",
            "Rural    2514\n",
            "Name: Residence_type, dtype: int64\n"
          ],
          "name": "stdout"
        },
        {
          "output_type": "display_data",
          "data": {
            "image/png": "[encoded data removed]",
            "text/plain": [
              "<Figure size 648x216 with 1 Axes>"
            ]
          },
          "metadata": {
            "tags": [],
            "needs_background": "light"
          }
        },
        {
          "output_type": "stream",
          "text": [
            "smoking_status:\n",
            "never smoked       1892\n",
            "Unknown            1544\n",
            "formerly smoked     885\n",
            "smokes              789\n",
            "Name: smoking_status, dtype: int64\n"
          ],
          "name": "stdout"
        }
      ]
    },
    {
      "cell_type": "code",
      "metadata": {
        "id": "g-mT0qbM1Vnm"
      },
      "source": [
        "def plot_hist(variable):\n",
        "    pt.figure(figsize = (9,3))\n",
        "    pt.hist(new_data[variable], bins = 50)\n",
        "    pt.xlabel(variable)\n",
        "    pt.ylabel(\"Frequency\")\n",
        "    pt.title(\"{} Distribution with Histogram\".format(variable))\n",
        "    pt.show()"
      ],
      "execution_count": null,
      "outputs": []
    },
    {
      "cell_type": "code",
      "metadata": {
        "colab": {
          "base_uri": "https://localhost:8080/"
        },
        "id": "08rXc-lw1DMI",
        "outputId": "b1753e22-7a15-4b39-d83f-3456ef2c95ac"
      },
      "source": [
        "\n",
        "numerical_values = (new_data.dtypes == \"float64\")\n",
        "numerical_values_list = list(numerical_values[numerical_values].index)\n",
        "\n",
        "print(\"Numerical variables:\")\n",
        "print(numerical_values_list)\n",
        "\n"
      ],
      "execution_count": null,
      "outputs": [
        {
          "output_type": "stream",
          "text": [
            "Numerical variables:\n",
            "['age', 'avg_glucose_level', 'bmi']\n"
          ],
          "name": "stdout"
        }
      ]
    },
    {
      "cell_type": "code",
      "metadata": {
        "colab": {
          "base_uri": "https://localhost:8080/",
          "height": 690
        },
        "id": "UpvUWuEI1UrQ",
        "outputId": "26eb7208-c137-4384-eb33-3dd9cf4d5996"
      },
      "source": [
        "numerical_variables = ['age', 'avg_glucose_level', 'bmi']\n",
        "for n in numerical_variables:\n",
        "    plot_hist(n)"
      ],
      "execution_count": null,
      "outputs": [
        {
          "output_type": "display_data",
          "data": {
            "image/png": "[encoded data removed]",
            "text/plain": [
              "<Figure size 648x216 with 1 Axes>"
            ]
          },
          "metadata": {
            "tags": [],
            "needs_background": "light"
          }
        },
        {
          "output_type": "display_data",
          "data": {
            "image/png": "[encoded data removed]",
            "text/plain": [
              "<Figure size 648x216 with 1 Axes>"
            ]
          },
          "metadata": {
            "tags": [],
            "needs_background": "light"
          }
        },
        {
          "output_type": "display_data",
          "data": {
            "image/png": "[encoded data removed]",
            "text/plain": [
              "<Figure size 648x216 with 1 Axes>"
            ]
          },
          "metadata": {
            "tags": [],
            "needs_background": "light"
          }
        }
      ]
    },
    {
      "cell_type": "code",
      "metadata": {
        "colab": {
          "base_uri": "https://localhost:8080/",
          "height": 49
        },
        "id": "t0Zh0nf24GmE",
        "outputId": "d6e150b2-0b84-44df-be5d-7ca6eda0a2d8"
      },
      "source": [
        "new_data[new_data['gender'].isnull()]"
      ],
      "execution_count": null,
      "outputs": [
        {
          "output_type": "execute_result",
          "data": {
            "text/html": [
              "<div>\n",
              "<style scoped>\n",
              "    .dataframe tbody tr th:only-of-type {\n",
              "        vertical-align: middle;\n",
              "    }\n",
              "\n",
              "    .dataframe tbody tr th {\n",
              "        vertical-align: top;\n",
              "    }\n",
              "\n",
              "    .dataframe thead th {\n",
              "        text-align: right;\n",
              "    }\n",
              "</style>\n",
              "<table border=\"1\" class=\"dataframe\">\n",
              "  <thead>\n",
              "    <tr style=\"text-align: right;\">\n",
              "      <th></th>\n",
              "      <th>gender</th>\n",
              "      <th>age</th>\n",
              "      <th>hypertension</th>\n",
              "      <th>heart_disease</th>\n",
              "      <th>ever_married</th>\n",
              "      <th>work_type</th>\n",
              "      <th>Residence_type</th>\n",
              "      <th>avg_glucose_level</th>\n",
              "      <th>bmi</th>\n",
              "      <th>smoking_status</th>\n",
              "      <th>stroke</th>\n",
              "    </tr>\n",
              "  </thead>\n",
              "  <tbody>\n",
              "  </tbody>\n",
              "</table>\n",
              "</div>"
            ],
            "text/plain": [
              "Empty DataFrame\n",
              "Columns: [gender, age, hypertension, heart_disease, ever_married, work_type, Residence_type, avg_glucose_level, bmi, smoking_status, stroke]\n",
              "Index: []"
            ]
          },
          "metadata": {
            "tags": []
          },
          "execution_count": 13
        }
      ]
    },
    {
      "cell_type": "code",
      "metadata": {
        "colab": {
          "base_uri": "https://localhost:8080/",
          "height": 49
        },
        "id": "MEkj2VCT4NX2",
        "outputId": "5f774367-b6e5-4c10-c4b6-ead259c6e982"
      },
      "source": [
        "new_data[new_data['age'].isnull()]"
      ],
      "execution_count": null,
      "outputs": [
        {
          "output_type": "execute_result",
          "data": {
            "text/html": [
              "<div>\n",
              "<style scoped>\n",
              "    .dataframe tbody tr th:only-of-type {\n",
              "        vertical-align: middle;\n",
              "    }\n",
              "\n",
              "    .dataframe tbody tr th {\n",
              "        vertical-align: top;\n",
              "    }\n",
              "\n",
              "    .dataframe thead th {\n",
              "        text-align: right;\n",
              "    }\n",
              "</style>\n",
              "<table border=\"1\" class=\"dataframe\">\n",
              "  <thead>\n",
              "    <tr style=\"text-align: right;\">\n",
              "      <th></th>\n",
              "      <th>gender</th>\n",
              "      <th>age</th>\n",
              "      <th>hypertension</th>\n",
              "      <th>heart_disease</th>\n",
              "      <th>ever_married</th>\n",
              "      <th>work_type</th>\n",
              "      <th>Residence_type</th>\n",
              "      <th>avg_glucose_level</th>\n",
              "      <th>bmi</th>\n",
              "      <th>smoking_status</th>\n",
              "      <th>stroke</th>\n",
              "    </tr>\n",
              "  </thead>\n",
              "  <tbody>\n",
              "  </tbody>\n",
              "</table>\n",
              "</div>"
            ],
            "text/plain": [
              "Empty DataFrame\n",
              "Columns: [gender, age, hypertension, heart_disease, ever_married, work_type, Residence_type, avg_glucose_level, bmi, smoking_status, stroke]\n",
              "Index: []"
            ]
          },
          "metadata": {
            "tags": []
          },
          "execution_count": 14
        }
      ]
    },
    {
      "cell_type": "code",
      "metadata": {
        "colab": {
          "base_uri": "https://localhost:8080/",
          "height": 49
        },
        "id": "R6-yRxBm4N7r",
        "outputId": "78593f09-91cc-4156-f5f2-fd0262c39198"
      },
      "source": [
        "new_data[new_data['hypertension'].isnull()]"
      ],
      "execution_count": null,
      "outputs": [
        {
          "output_type": "execute_result",
          "data": {
            "text/html": [
              "<div>\n",
              "<style scoped>\n",
              "    .dataframe tbody tr th:only-of-type {\n",
              "        vertical-align: middle;\n",
              "    }\n",
              "\n",
              "    .dataframe tbody tr th {\n",
              "        vertical-align: top;\n",
              "    }\n",
              "\n",
              "    .dataframe thead th {\n",
              "        text-align: right;\n",
              "    }\n",
              "</style>\n",
              "<table border=\"1\" class=\"dataframe\">\n",
              "  <thead>\n",
              "    <tr style=\"text-align: right;\">\n",
              "      <th></th>\n",
              "      <th>gender</th>\n",
              "      <th>age</th>\n",
              "      <th>hypertension</th>\n",
              "      <th>heart_disease</th>\n",
              "      <th>ever_married</th>\n",
              "      <th>work_type</th>\n",
              "      <th>Residence_type</th>\n",
              "      <th>avg_glucose_level</th>\n",
              "      <th>bmi</th>\n",
              "      <th>smoking_status</th>\n",
              "      <th>stroke</th>\n",
              "    </tr>\n",
              "  </thead>\n",
              "  <tbody>\n",
              "  </tbody>\n",
              "</table>\n",
              "</div>"
            ],
            "text/plain": [
              "Empty DataFrame\n",
              "Columns: [gender, age, hypertension, heart_disease, ever_married, work_type, Residence_type, avg_glucose_level, bmi, smoking_status, stroke]\n",
              "Index: []"
            ]
          },
          "metadata": {
            "tags": []
          },
          "execution_count": 15
        }
      ]
    },
    {
      "cell_type": "code",
      "metadata": {
        "colab": {
          "base_uri": "https://localhost:8080/",
          "height": 49
        },
        "id": "18cdwvPj4Ohk",
        "outputId": "4756b856-d667-4c6a-a095-7a8bff690119"
      },
      "source": [
        "new_data[new_data['heart_disease'].isnull()]"
      ],
      "execution_count": null,
      "outputs": [
        {
          "output_type": "execute_result",
          "data": {
            "text/html": [
              "<div>\n",
              "<style scoped>\n",
              "    .dataframe tbody tr th:only-of-type {\n",
              "        vertical-align: middle;\n",
              "    }\n",
              "\n",
              "    .dataframe tbody tr th {\n",
              "        vertical-align: top;\n",
              "    }\n",
              "\n",
              "    .dataframe thead th {\n",
              "        text-align: right;\n",
              "    }\n",
              "</style>\n",
              "<table border=\"1\" class=\"dataframe\">\n",
              "  <thead>\n",
              "    <tr style=\"text-align: right;\">\n",
              "      <th></th>\n",
              "      <th>gender</th>\n",
              "      <th>age</th>\n",
              "      <th>hypertension</th>\n",
              "      <th>heart_disease</th>\n",
              "      <th>ever_married</th>\n",
              "      <th>work_type</th>\n",
              "      <th>Residence_type</th>\n",
              "      <th>avg_glucose_level</th>\n",
              "      <th>bmi</th>\n",
              "      <th>smoking_status</th>\n",
              "      <th>stroke</th>\n",
              "    </tr>\n",
              "  </thead>\n",
              "  <tbody>\n",
              "  </tbody>\n",
              "</table>\n",
              "</div>"
            ],
            "text/plain": [
              "Empty DataFrame\n",
              "Columns: [gender, age, hypertension, heart_disease, ever_married, work_type, Residence_type, avg_glucose_level, bmi, smoking_status, stroke]\n",
              "Index: []"
            ]
          },
          "metadata": {
            "tags": []
          },
          "execution_count": 16
        }
      ]
    },
    {
      "cell_type": "code",
      "metadata": {
        "colab": {
          "base_uri": "https://localhost:8080/",
          "height": 49
        },
        "id": "DunYxAOL4S5_",
        "outputId": "f8e9c799-a458-4f92-dba9-3ae79085dec1"
      },
      "source": [
        "new_data[new_data['ever_married'].isnull()]"
      ],
      "execution_count": null,
      "outputs": [
        {
          "output_type": "execute_result",
          "data": {
            "text/html": [
              "<div>\n",
              "<style scoped>\n",
              "    .dataframe tbody tr th:only-of-type {\n",
              "        vertical-align: middle;\n",
              "    }\n",
              "\n",
              "    .dataframe tbody tr th {\n",
              "        vertical-align: top;\n",
              "    }\n",
              "\n",
              "    .dataframe thead th {\n",
              "        text-align: right;\n",
              "    }\n",
              "</style>\n",
              "<table border=\"1\" class=\"dataframe\">\n",
              "  <thead>\n",
              "    <tr style=\"text-align: right;\">\n",
              "      <th></th>\n",
              "      <th>gender</th>\n",
              "      <th>age</th>\n",
              "      <th>hypertension</th>\n",
              "      <th>heart_disease</th>\n",
              "      <th>ever_married</th>\n",
              "      <th>work_type</th>\n",
              "      <th>Residence_type</th>\n",
              "      <th>avg_glucose_level</th>\n",
              "      <th>bmi</th>\n",
              "      <th>smoking_status</th>\n",
              "      <th>stroke</th>\n",
              "    </tr>\n",
              "  </thead>\n",
              "  <tbody>\n",
              "  </tbody>\n",
              "</table>\n",
              "</div>"
            ],
            "text/plain": [
              "Empty DataFrame\n",
              "Columns: [gender, age, hypertension, heart_disease, ever_married, work_type, Residence_type, avg_glucose_level, bmi, smoking_status, stroke]\n",
              "Index: []"
            ]
          },
          "metadata": {
            "tags": []
          },
          "execution_count": 17
        }
      ]
    },
    {
      "cell_type": "code",
      "metadata": {
        "colab": {
          "base_uri": "https://localhost:8080/",
          "height": 49
        },
        "id": "CjWsCtBQ4TpX",
        "outputId": "f2c5d5a3-c5e9-4308-ea0a-8af66db9e7ad"
      },
      "source": [
        "new_data[new_data['work_type'].isnull()]"
      ],
      "execution_count": null,
      "outputs": [
        {
          "output_type": "execute_result",
          "data": {
            "text/html": [
              "<div>\n",
              "<style scoped>\n",
              "    .dataframe tbody tr th:only-of-type {\n",
              "        vertical-align: middle;\n",
              "    }\n",
              "\n",
              "    .dataframe tbody tr th {\n",
              "        vertical-align: top;\n",
              "    }\n",
              "\n",
              "    .dataframe thead th {\n",
              "        text-align: right;\n",
              "    }\n",
              "</style>\n",
              "<table border=\"1\" class=\"dataframe\">\n",
              "  <thead>\n",
              "    <tr style=\"text-align: right;\">\n",
              "      <th></th>\n",
              "      <th>gender</th>\n",
              "      <th>age</th>\n",
              "      <th>hypertension</th>\n",
              "      <th>heart_disease</th>\n",
              "      <th>ever_married</th>\n",
              "      <th>work_type</th>\n",
              "      <th>Residence_type</th>\n",
              "      <th>avg_glucose_level</th>\n",
              "      <th>bmi</th>\n",
              "      <th>smoking_status</th>\n",
              "      <th>stroke</th>\n",
              "    </tr>\n",
              "  </thead>\n",
              "  <tbody>\n",
              "  </tbody>\n",
              "</table>\n",
              "</div>"
            ],
            "text/plain": [
              "Empty DataFrame\n",
              "Columns: [gender, age, hypertension, heart_disease, ever_married, work_type, Residence_type, avg_glucose_level, bmi, smoking_status, stroke]\n",
              "Index: []"
            ]
          },
          "metadata": {
            "tags": []
          },
          "execution_count": 18
        }
      ]
    },
    {
      "cell_type": "code",
      "metadata": {
        "colab": {
          "base_uri": "https://localhost:8080/",
          "height": 49
        },
        "id": "5kTkk4Gp4mrz",
        "outputId": "5dbdf762-8970-4282-96bf-e73a0f558ebf"
      },
      "source": [
        "new_data[new_data['Residence_type'].isnull()]"
      ],
      "execution_count": null,
      "outputs": [
        {
          "output_type": "execute_result",
          "data": {
            "text/html": [
              "<div>\n",
              "<style scoped>\n",
              "    .dataframe tbody tr th:only-of-type {\n",
              "        vertical-align: middle;\n",
              "    }\n",
              "\n",
              "    .dataframe tbody tr th {\n",
              "        vertical-align: top;\n",
              "    }\n",
              "\n",
              "    .dataframe thead th {\n",
              "        text-align: right;\n",
              "    }\n",
              "</style>\n",
              "<table border=\"1\" class=\"dataframe\">\n",
              "  <thead>\n",
              "    <tr style=\"text-align: right;\">\n",
              "      <th></th>\n",
              "      <th>gender</th>\n",
              "      <th>age</th>\n",
              "      <th>hypertension</th>\n",
              "      <th>heart_disease</th>\n",
              "      <th>ever_married</th>\n",
              "      <th>work_type</th>\n",
              "      <th>Residence_type</th>\n",
              "      <th>avg_glucose_level</th>\n",
              "      <th>bmi</th>\n",
              "      <th>smoking_status</th>\n",
              "      <th>stroke</th>\n",
              "    </tr>\n",
              "  </thead>\n",
              "  <tbody>\n",
              "  </tbody>\n",
              "</table>\n",
              "</div>"
            ],
            "text/plain": [
              "Empty DataFrame\n",
              "Columns: [gender, age, hypertension, heart_disease, ever_married, work_type, Residence_type, avg_glucose_level, bmi, smoking_status, stroke]\n",
              "Index: []"
            ]
          },
          "metadata": {
            "tags": []
          },
          "execution_count": 19
        }
      ]
    },
    {
      "cell_type": "code",
      "metadata": {
        "colab": {
          "base_uri": "https://localhost:8080/",
          "height": 49
        },
        "id": "b9ASz7_T4nd0",
        "outputId": "5989161a-3a6b-41d4-d46b-f3e8b12b999d"
      },
      "source": [
        "new_data[new_data['avg_glucose_level'].isnull()]"
      ],
      "execution_count": null,
      "outputs": [
        {
          "output_type": "execute_result",
          "data": {
            "text/html": [
              "<div>\n",
              "<style scoped>\n",
              "    .dataframe tbody tr th:only-of-type {\n",
              "        vertical-align: middle;\n",
              "    }\n",
              "\n",
              "    .dataframe tbody tr th {\n",
              "        vertical-align: top;\n",
              "    }\n",
              "\n",
              "    .dataframe thead th {\n",
              "        text-align: right;\n",
              "    }\n",
              "</style>\n",
              "<table border=\"1\" class=\"dataframe\">\n",
              "  <thead>\n",
              "    <tr style=\"text-align: right;\">\n",
              "      <th></th>\n",
              "      <th>gender</th>\n",
              "      <th>age</th>\n",
              "      <th>hypertension</th>\n",
              "      <th>heart_disease</th>\n",
              "      <th>ever_married</th>\n",
              "      <th>work_type</th>\n",
              "      <th>Residence_type</th>\n",
              "      <th>avg_glucose_level</th>\n",
              "      <th>bmi</th>\n",
              "      <th>smoking_status</th>\n",
              "      <th>stroke</th>\n",
              "    </tr>\n",
              "  </thead>\n",
              "  <tbody>\n",
              "  </tbody>\n",
              "</table>\n",
              "</div>"
            ],
            "text/plain": [
              "Empty DataFrame\n",
              "Columns: [gender, age, hypertension, heart_disease, ever_married, work_type, Residence_type, avg_glucose_level, bmi, smoking_status, stroke]\n",
              "Index: []"
            ]
          },
          "metadata": {
            "tags": []
          },
          "execution_count": 20
        }
      ]
    },
    {
      "cell_type": "code",
      "metadata": {
        "colab": {
          "base_uri": "https://localhost:8080/",
          "height": 424
        },
        "id": "KZXcZMnQ1zee",
        "outputId": "47c6d6df-c29d-41c3-8032-6e6f0d30eb4c"
      },
      "source": [
        "new_data[new_data['bmi'].isnull()]"
      ],
      "execution_count": null,
      "outputs": [
        {
          "output_type": "execute_result",
          "data": {
            "text/html": [
              "<div>\n",
              "<style scoped>\n",
              "    .dataframe tbody tr th:only-of-type {\n",
              "        vertical-align: middle;\n",
              "    }\n",
              "\n",
              "    .dataframe tbody tr th {\n",
              "        vertical-align: top;\n",
              "    }\n",
              "\n",
              "    .dataframe thead th {\n",
              "        text-align: right;\n",
              "    }\n",
              "</style>\n",
              "<table border=\"1\" class=\"dataframe\">\n",
              "  <thead>\n",
              "    <tr style=\"text-align: right;\">\n",
              "      <th></th>\n",
              "      <th>gender</th>\n",
              "      <th>age</th>\n",
              "      <th>hypertension</th>\n",
              "      <th>heart_disease</th>\n",
              "      <th>ever_married</th>\n",
              "      <th>work_type</th>\n",
              "      <th>Residence_type</th>\n",
              "      <th>avg_glucose_level</th>\n",
              "      <th>bmi</th>\n",
              "      <th>smoking_status</th>\n",
              "      <th>stroke</th>\n",
              "    </tr>\n",
              "  </thead>\n",
              "  <tbody>\n",
              "    <tr>\n",
              "      <th>1</th>\n",
              "      <td>Female</td>\n",
              "      <td>61.0</td>\n",
              "      <td>0</td>\n",
              "      <td>0</td>\n",
              "      <td>Yes</td>\n",
              "      <td>Self-employed</td>\n",
              "      <td>Rural</td>\n",
              "      <td>202.21</td>\n",
              "      <td>NaN</td>\n",
              "      <td>never smoked</td>\n",
              "      <td>1</td>\n",
              "    </tr>\n",
              "    <tr>\n",
              "      <th>8</th>\n",
              "      <td>Female</td>\n",
              "      <td>59.0</td>\n",
              "      <td>0</td>\n",
              "      <td>0</td>\n",
              "      <td>Yes</td>\n",
              "      <td>Private</td>\n",
              "      <td>Rural</td>\n",
              "      <td>76.15</td>\n",
              "      <td>NaN</td>\n",
              "      <td>Unknown</td>\n",
              "      <td>1</td>\n",
              "    </tr>\n",
              "    <tr>\n",
              "      <th>13</th>\n",
              "      <td>Male</td>\n",
              "      <td>78.0</td>\n",
              "      <td>0</td>\n",
              "      <td>1</td>\n",
              "      <td>Yes</td>\n",
              "      <td>Private</td>\n",
              "      <td>Urban</td>\n",
              "      <td>219.84</td>\n",
              "      <td>NaN</td>\n",
              "      <td>Unknown</td>\n",
              "      <td>1</td>\n",
              "    </tr>\n",
              "    <tr>\n",
              "      <th>19</th>\n",
              "      <td>Male</td>\n",
              "      <td>57.0</td>\n",
              "      <td>0</td>\n",
              "      <td>1</td>\n",
              "      <td>No</td>\n",
              "      <td>Govt_job</td>\n",
              "      <td>Urban</td>\n",
              "      <td>217.08</td>\n",
              "      <td>NaN</td>\n",
              "      <td>Unknown</td>\n",
              "      <td>1</td>\n",
              "    </tr>\n",
              "    <tr>\n",
              "      <th>27</th>\n",
              "      <td>Male</td>\n",
              "      <td>58.0</td>\n",
              "      <td>0</td>\n",
              "      <td>0</td>\n",
              "      <td>Yes</td>\n",
              "      <td>Private</td>\n",
              "      <td>Rural</td>\n",
              "      <td>189.84</td>\n",
              "      <td>NaN</td>\n",
              "      <td>Unknown</td>\n",
              "      <td>1</td>\n",
              "    </tr>\n",
              "    <tr>\n",
              "      <th>...</th>\n",
              "      <td>...</td>\n",
              "      <td>...</td>\n",
              "      <td>...</td>\n",
              "      <td>...</td>\n",
              "      <td>...</td>\n",
              "      <td>...</td>\n",
              "      <td>...</td>\n",
              "      <td>...</td>\n",
              "      <td>...</td>\n",
              "      <td>...</td>\n",
              "      <td>...</td>\n",
              "    </tr>\n",
              "    <tr>\n",
              "      <th>5039</th>\n",
              "      <td>Male</td>\n",
              "      <td>41.0</td>\n",
              "      <td>0</td>\n",
              "      <td>0</td>\n",
              "      <td>No</td>\n",
              "      <td>Private</td>\n",
              "      <td>Rural</td>\n",
              "      <td>70.15</td>\n",
              "      <td>NaN</td>\n",
              "      <td>formerly smoked</td>\n",
              "      <td>0</td>\n",
              "    </tr>\n",
              "    <tr>\n",
              "      <th>5048</th>\n",
              "      <td>Male</td>\n",
              "      <td>40.0</td>\n",
              "      <td>0</td>\n",
              "      <td>0</td>\n",
              "      <td>Yes</td>\n",
              "      <td>Private</td>\n",
              "      <td>Urban</td>\n",
              "      <td>191.15</td>\n",
              "      <td>NaN</td>\n",
              "      <td>smokes</td>\n",
              "      <td>0</td>\n",
              "    </tr>\n",
              "    <tr>\n",
              "      <th>5093</th>\n",
              "      <td>Female</td>\n",
              "      <td>45.0</td>\n",
              "      <td>1</td>\n",
              "      <td>0</td>\n",
              "      <td>Yes</td>\n",
              "      <td>Govt_job</td>\n",
              "      <td>Rural</td>\n",
              "      <td>95.02</td>\n",
              "      <td>NaN</td>\n",
              "      <td>smokes</td>\n",
              "      <td>0</td>\n",
              "    </tr>\n",
              "    <tr>\n",
              "      <th>5099</th>\n",
              "      <td>Male</td>\n",
              "      <td>40.0</td>\n",
              "      <td>0</td>\n",
              "      <td>0</td>\n",
              "      <td>Yes</td>\n",
              "      <td>Private</td>\n",
              "      <td>Rural</td>\n",
              "      <td>83.94</td>\n",
              "      <td>NaN</td>\n",
              "      <td>smokes</td>\n",
              "      <td>0</td>\n",
              "    </tr>\n",
              "    <tr>\n",
              "      <th>5105</th>\n",
              "      <td>Female</td>\n",
              "      <td>80.0</td>\n",
              "      <td>1</td>\n",
              "      <td>0</td>\n",
              "      <td>Yes</td>\n",
              "      <td>Private</td>\n",
              "      <td>Urban</td>\n",
              "      <td>83.75</td>\n",
              "      <td>NaN</td>\n",
              "      <td>never smoked</td>\n",
              "      <td>0</td>\n",
              "    </tr>\n",
              "  </tbody>\n",
              "</table>\n",
              "<p>201 rows × 11 columns</p>\n",
              "</div>"
            ],
            "text/plain": [
              "      gender   age  hypertension  ...  bmi   smoking_status stroke\n",
              "1     Female  61.0             0  ...  NaN     never smoked      1\n",
              "8     Female  59.0             0  ...  NaN          Unknown      1\n",
              "13      Male  78.0             0  ...  NaN          Unknown      1\n",
              "19      Male  57.0             0  ...  NaN          Unknown      1\n",
              "27      Male  58.0             0  ...  NaN          Unknown      1\n",
              "...      ...   ...           ...  ...  ...              ...    ...\n",
              "5039    Male  41.0             0  ...  NaN  formerly smoked      0\n",
              "5048    Male  40.0             0  ...  NaN           smokes      0\n",
              "5093  Female  45.0             1  ...  NaN           smokes      0\n",
              "5099    Male  40.0             0  ...  NaN           smokes      0\n",
              "5105  Female  80.0             1  ...  NaN     never smoked      0\n",
              "\n",
              "[201 rows x 11 columns]"
            ]
          },
          "metadata": {
            "tags": []
          },
          "execution_count": 21
        }
      ]
    },
    {
      "cell_type": "code",
      "metadata": {
        "colab": {
          "base_uri": "https://localhost:8080/",
          "height": 49
        },
        "id": "kWuyckhu5PmG",
        "outputId": "28e4d375-3701-42ff-8f5b-e611652e8038"
      },
      "source": [
        "new_data[new_data['smoking_status'].isnull()]"
      ],
      "execution_count": null,
      "outputs": [
        {
          "output_type": "execute_result",
          "data": {
            "text/html": [
              "<div>\n",
              "<style scoped>\n",
              "    .dataframe tbody tr th:only-of-type {\n",
              "        vertical-align: middle;\n",
              "    }\n",
              "\n",
              "    .dataframe tbody tr th {\n",
              "        vertical-align: top;\n",
              "    }\n",
              "\n",
              "    .dataframe thead th {\n",
              "        text-align: right;\n",
              "    }\n",
              "</style>\n",
              "<table border=\"1\" class=\"dataframe\">\n",
              "  <thead>\n",
              "    <tr style=\"text-align: right;\">\n",
              "      <th></th>\n",
              "      <th>gender</th>\n",
              "      <th>age</th>\n",
              "      <th>hypertension</th>\n",
              "      <th>heart_disease</th>\n",
              "      <th>ever_married</th>\n",
              "      <th>work_type</th>\n",
              "      <th>Residence_type</th>\n",
              "      <th>avg_glucose_level</th>\n",
              "      <th>bmi</th>\n",
              "      <th>smoking_status</th>\n",
              "      <th>stroke</th>\n",
              "    </tr>\n",
              "  </thead>\n",
              "  <tbody>\n",
              "  </tbody>\n",
              "</table>\n",
              "</div>"
            ],
            "text/plain": [
              "Empty DataFrame\n",
              "Columns: [gender, age, hypertension, heart_disease, ever_married, work_type, Residence_type, avg_glucose_level, bmi, smoking_status, stroke]\n",
              "Index: []"
            ]
          },
          "metadata": {
            "tags": []
          },
          "execution_count": 22
        }
      ]
    },
    {
      "cell_type": "code",
      "metadata": {
        "colab": {
          "base_uri": "https://localhost:8080/",
          "height": 49
        },
        "id": "bRLV5v0w5X7i",
        "outputId": "c2fcc28d-9222-4f39-d0ae-f05277c4bccf"
      },
      "source": [
        "new_data[new_data['stroke'].isnull()]"
      ],
      "execution_count": null,
      "outputs": [
        {
          "output_type": "execute_result",
          "data": {
            "text/html": [
              "<div>\n",
              "<style scoped>\n",
              "    .dataframe tbody tr th:only-of-type {\n",
              "        vertical-align: middle;\n",
              "    }\n",
              "\n",
              "    .dataframe tbody tr th {\n",
              "        vertical-align: top;\n",
              "    }\n",
              "\n",
              "    .dataframe thead th {\n",
              "        text-align: right;\n",
              "    }\n",
              "</style>\n",
              "<table border=\"1\" class=\"dataframe\">\n",
              "  <thead>\n",
              "    <tr style=\"text-align: right;\">\n",
              "      <th></th>\n",
              "      <th>gender</th>\n",
              "      <th>age</th>\n",
              "      <th>hypertension</th>\n",
              "      <th>heart_disease</th>\n",
              "      <th>ever_married</th>\n",
              "      <th>work_type</th>\n",
              "      <th>Residence_type</th>\n",
              "      <th>avg_glucose_level</th>\n",
              "      <th>bmi</th>\n",
              "      <th>smoking_status</th>\n",
              "      <th>stroke</th>\n",
              "    </tr>\n",
              "  </thead>\n",
              "  <tbody>\n",
              "  </tbody>\n",
              "</table>\n",
              "</div>"
            ],
            "text/plain": [
              "Empty DataFrame\n",
              "Columns: [gender, age, hypertension, heart_disease, ever_married, work_type, Residence_type, avg_glucose_level, bmi, smoking_status, stroke]\n",
              "Index: []"
            ]
          },
          "metadata": {
            "tags": []
          },
          "execution_count": 23
        }
      ]
    },
    {
      "cell_type": "markdown",
      "metadata": {
        "id": "sUyhIvJoff8f"
      },
      "source": [
        "**Removing the NULL Values**"
      ]
    },
    {
      "cell_type": "code",
      "metadata": {
        "colab": {
          "base_uri": "https://localhost:8080/"
        },
        "id": "9_A9IMlm3HJd",
        "outputId": "1f5840cd-a0b6-4ce8-a71e-19dfc5cbd6bf"
      },
      "source": [
        "print(\"Mean of BMI value for Females: \", np.mean(new_data[new_data['gender'] == 'Female']['bmi']))\n",
        "print(\"Mean of BMI value for Males: \", np.mean(new_data[new_data['gender'] == 'Male']['bmi']))\n",
        "print(\"Mean of BMI value: \", np.mean(new_data['bmi']))"
      ],
      "execution_count": null,
      "outputs": [
        {
          "output_type": "stream",
          "text": [
            "Mean of BMI value for Females:  29.065757680359038\n",
            "Mean of BMI value for Males:  28.647936350074616\n",
            "Mean of BMI value:  28.893236911794673\n"
          ],
          "name": "stdout"
        }
      ]
    },
    {
      "cell_type": "code",
      "metadata": {
        "id": "hLHzU9G35iSK"
      },
      "source": [
        "new_data['bmi'] = new_data['bmi'].fillna(0)"
      ],
      "execution_count": null,
      "outputs": []
    },
    {
      "cell_type": "code",
      "metadata": {
        "colab": {
          "base_uri": "https://localhost:8080/"
        },
        "id": "N_eRChT85ri9",
        "outputId": "ee2d0477-5291-41b2-9733-d2d7ee131604"
      },
      "source": [
        "for i in range(0,5035):\n",
        "    if(new_data['bmi'][i] == 0):\n",
        "        if(new_data['gender'][i] == 'Male'):\n",
        "            new_data['bmi'][i] = 28.594683544303823\n",
        "        elif(new_data['gender'][i] == 'Female'):\n",
        "            new_data['bmi'][i] = 29.035926055109936\n",
        "        else:\n",
        "            new_data['bmi'][i] = 28.854652338161664\n",
        "        "
      ],
      "execution_count": null,
      "outputs": [
        {
          "output_type": "stream",
          "text": [
            "/usr/local/lib/python3.7/dist-packages/ipykernel_launcher.py:6: SettingWithCopyWarning: \n",
            "A value is trying to be set on a copy of a slice from a DataFrame\n",
            "\n",
            "See the caveats in the documentation: https://pandas.pydata.org/pandas-docs/stable/user_guide/indexing.html#returning-a-view-versus-a-copy\n",
            "  \n",
            "/usr/local/lib/python3.7/dist-packages/ipykernel_launcher.py:4: SettingWithCopyWarning: \n",
            "A value is trying to be set on a copy of a slice from a DataFrame\n",
            "\n",
            "See the caveats in the documentation: https://pandas.pydata.org/pandas-docs/stable/user_guide/indexing.html#returning-a-view-versus-a-copy\n",
            "  after removing the cwd from sys.path.\n"
          ],
          "name": "stderr"
        }
      ]
    },
    {
      "cell_type": "code",
      "metadata": {
        "colab": {
          "base_uri": "https://localhost:8080/",
          "height": 49
        },
        "id": "zX7mG0AY6Rvy",
        "outputId": "4fc70f45-6048-4f30-ac28-2724b998c3f5"
      },
      "source": [
        "new_data[new_data['bmi'].isnull()]"
      ],
      "execution_count": null,
      "outputs": [
        {
          "output_type": "execute_result",
          "data": {
            "text/html": [
              "<div>\n",
              "<style scoped>\n",
              "    .dataframe tbody tr th:only-of-type {\n",
              "        vertical-align: middle;\n",
              "    }\n",
              "\n",
              "    .dataframe tbody tr th {\n",
              "        vertical-align: top;\n",
              "    }\n",
              "\n",
              "    .dataframe thead th {\n",
              "        text-align: right;\n",
              "    }\n",
              "</style>\n",
              "<table border=\"1\" class=\"dataframe\">\n",
              "  <thead>\n",
              "    <tr style=\"text-align: right;\">\n",
              "      <th></th>\n",
              "      <th>gender</th>\n",
              "      <th>age</th>\n",
              "      <th>hypertension</th>\n",
              "      <th>heart_disease</th>\n",
              "      <th>ever_married</th>\n",
              "      <th>work_type</th>\n",
              "      <th>Residence_type</th>\n",
              "      <th>avg_glucose_level</th>\n",
              "      <th>bmi</th>\n",
              "      <th>smoking_status</th>\n",
              "      <th>stroke</th>\n",
              "    </tr>\n",
              "  </thead>\n",
              "  <tbody>\n",
              "  </tbody>\n",
              "</table>\n",
              "</div>"
            ],
            "text/plain": [
              "Empty DataFrame\n",
              "Columns: [gender, age, hypertension, heart_disease, ever_married, work_type, Residence_type, avg_glucose_level, bmi, smoking_status, stroke]\n",
              "Index: []"
            ]
          },
          "metadata": {
            "tags": []
          },
          "execution_count": 27
        }
      ]
    },
    {
      "cell_type": "markdown",
      "metadata": {
        "id": "_1-lq_anfrZv"
      },
      "source": [
        "**Converting Categorical variables into Dummy variables**"
      ]
    },
    {
      "cell_type": "code",
      "metadata": {
        "colab": {
          "base_uri": "https://localhost:8080/"
        },
        "id": "THGRml7b6ZAs",
        "outputId": "cdb2d12b-026a-4c2b-8196-930d2c129d03"
      },
      "source": [
        "print(\"Unique Values for Gender\", new_data['gender'].unique())\n",
        "print(\"Unique Values for ever_married\", new_data['ever_married'].unique())\n",
        "print(\"Unique Values for work_type\", new_data['work_type'].unique())\n",
        "print(\"Unique Values for Residence_type\", new_data['Residence_type'].unique())\n",
        "print(\"Unique Values for smoking_status\", new_data['smoking_status'].unique())"
      ],
      "execution_count": null,
      "outputs": [
        {
          "output_type": "stream",
          "text": [
            "Unique Values for Gender ['Male' 'Female' 'Other']\n",
            "Unique Values for ever_married ['Yes' 'No']\n",
            "Unique Values for work_type ['Private' 'Self-employed' 'Govt_job' 'children' 'Never_worked']\n",
            "Unique Values for Residence_type ['Urban' 'Rural']\n",
            "Unique Values for smoking_status ['formerly smoked' 'never smoked' 'smokes' 'Unknown']\n"
          ],
          "name": "stdout"
        }
      ]
    },
    {
      "cell_type": "code",
      "metadata": {
        "id": "36tBwG9T3jQT"
      },
      "source": [
        "ever_married_mapping = {'No': 0, 'Yes': 1}\n",
        "new_data['ever_married'] = new_data['ever_married'].map(ever_married_mapping)"
      ],
      "execution_count": null,
      "outputs": []
    },
    {
      "cell_type": "code",
      "metadata": {
        "colab": {
          "base_uri": "https://localhost:8080/",
          "height": 206
        },
        "id": "DyKYo_2q320X",
        "outputId": "7c4b17b9-9196-4a75-8f8a-cc0ec0cc3a2e"
      },
      "source": [
        "new_data.head()"
      ],
      "execution_count": null,
      "outputs": [
        {
          "output_type": "execute_result",
          "data": {
            "text/html": [
              "<div>\n",
              "<style scoped>\n",
              "    .dataframe tbody tr th:only-of-type {\n",
              "        vertical-align: middle;\n",
              "    }\n",
              "\n",
              "    .dataframe tbody tr th {\n",
              "        vertical-align: top;\n",
              "    }\n",
              "\n",
              "    .dataframe thead th {\n",
              "        text-align: right;\n",
              "    }\n",
              "</style>\n",
              "<table border=\"1\" class=\"dataframe\">\n",
              "  <thead>\n",
              "    <tr style=\"text-align: right;\">\n",
              "      <th></th>\n",
              "      <th>gender</th>\n",
              "      <th>age</th>\n",
              "      <th>hypertension</th>\n",
              "      <th>heart_disease</th>\n",
              "      <th>ever_married</th>\n",
              "      <th>work_type</th>\n",
              "      <th>Residence_type</th>\n",
              "      <th>avg_glucose_level</th>\n",
              "      <th>bmi</th>\n",
              "      <th>smoking_status</th>\n",
              "      <th>stroke</th>\n",
              "    </tr>\n",
              "  </thead>\n",
              "  <tbody>\n",
              "    <tr>\n",
              "      <th>0</th>\n",
              "      <td>Male</td>\n",
              "      <td>67.0</td>\n",
              "      <td>0</td>\n",
              "      <td>1</td>\n",
              "      <td>1</td>\n",
              "      <td>Private</td>\n",
              "      <td>Urban</td>\n",
              "      <td>228.69</td>\n",
              "      <td>36.600000</td>\n",
              "      <td>formerly smoked</td>\n",
              "      <td>1</td>\n",
              "    </tr>\n",
              "    <tr>\n",
              "      <th>1</th>\n",
              "      <td>Female</td>\n",
              "      <td>61.0</td>\n",
              "      <td>0</td>\n",
              "      <td>0</td>\n",
              "      <td>1</td>\n",
              "      <td>Self-employed</td>\n",
              "      <td>Rural</td>\n",
              "      <td>202.21</td>\n",
              "      <td>29.035926</td>\n",
              "      <td>never smoked</td>\n",
              "      <td>1</td>\n",
              "    </tr>\n",
              "    <tr>\n",
              "      <th>2</th>\n",
              "      <td>Male</td>\n",
              "      <td>80.0</td>\n",
              "      <td>0</td>\n",
              "      <td>1</td>\n",
              "      <td>1</td>\n",
              "      <td>Private</td>\n",
              "      <td>Rural</td>\n",
              "      <td>105.92</td>\n",
              "      <td>32.500000</td>\n",
              "      <td>never smoked</td>\n",
              "      <td>1</td>\n",
              "    </tr>\n",
              "    <tr>\n",
              "      <th>3</th>\n",
              "      <td>Female</td>\n",
              "      <td>49.0</td>\n",
              "      <td>0</td>\n",
              "      <td>0</td>\n",
              "      <td>1</td>\n",
              "      <td>Private</td>\n",
              "      <td>Urban</td>\n",
              "      <td>171.23</td>\n",
              "      <td>34.400000</td>\n",
              "      <td>smokes</td>\n",
              "      <td>1</td>\n",
              "    </tr>\n",
              "    <tr>\n",
              "      <th>4</th>\n",
              "      <td>Female</td>\n",
              "      <td>79.0</td>\n",
              "      <td>1</td>\n",
              "      <td>0</td>\n",
              "      <td>1</td>\n",
              "      <td>Self-employed</td>\n",
              "      <td>Rural</td>\n",
              "      <td>174.12</td>\n",
              "      <td>24.000000</td>\n",
              "      <td>never smoked</td>\n",
              "      <td>1</td>\n",
              "    </tr>\n",
              "  </tbody>\n",
              "</table>\n",
              "</div>"
            ],
            "text/plain": [
              "   gender   age  hypertension  ...        bmi   smoking_status stroke\n",
              "0    Male  67.0             0  ...  36.600000  formerly smoked      1\n",
              "1  Female  61.0             0  ...  29.035926     never smoked      1\n",
              "2    Male  80.0             0  ...  32.500000     never smoked      1\n",
              "3  Female  49.0             0  ...  34.400000           smokes      1\n",
              "4  Female  79.0             1  ...  24.000000     never smoked      1\n",
              "\n",
              "[5 rows x 11 columns]"
            ]
          },
          "metadata": {
            "tags": []
          },
          "execution_count": 30
        }
      ]
    },
    {
      "cell_type": "code",
      "metadata": {
        "id": "xi1byWzwz2VQ"
      },
      "source": [
        "Residence_type_mapping = {'Rural': 0, 'Urban': 1}\n",
        "new_data['Residence_type'] = new_data['Residence_type'].map(Residence_type_mapping)"
      ],
      "execution_count": null,
      "outputs": []
    },
    {
      "cell_type": "code",
      "metadata": {
        "colab": {
          "base_uri": "https://localhost:8080/",
          "height": 206
        },
        "id": "7AX_vPO40O9P",
        "outputId": "702a980c-e086-4ceb-ecd5-5323463afd10"
      },
      "source": [
        "new_data.head()"
      ],
      "execution_count": null,
      "outputs": [
        {
          "output_type": "execute_result",
          "data": {
            "text/html": [
              "<div>\n",
              "<style scoped>\n",
              "    .dataframe tbody tr th:only-of-type {\n",
              "        vertical-align: middle;\n",
              "    }\n",
              "\n",
              "    .dataframe tbody tr th {\n",
              "        vertical-align: top;\n",
              "    }\n",
              "\n",
              "    .dataframe thead th {\n",
              "        text-align: right;\n",
              "    }\n",
              "</style>\n",
              "<table border=\"1\" class=\"dataframe\">\n",
              "  <thead>\n",
              "    <tr style=\"text-align: right;\">\n",
              "      <th></th>\n",
              "      <th>gender</th>\n",
              "      <th>age</th>\n",
              "      <th>hypertension</th>\n",
              "      <th>heart_disease</th>\n",
              "      <th>ever_married</th>\n",
              "      <th>work_type</th>\n",
              "      <th>Residence_type</th>\n",
              "      <th>avg_glucose_level</th>\n",
              "      <th>bmi</th>\n",
              "      <th>smoking_status</th>\n",
              "      <th>stroke</th>\n",
              "    </tr>\n",
              "  </thead>\n",
              "  <tbody>\n",
              "    <tr>\n",
              "      <th>0</th>\n",
              "      <td>Male</td>\n",
              "      <td>67.0</td>\n",
              "      <td>0</td>\n",
              "      <td>1</td>\n",
              "      <td>1</td>\n",
              "      <td>Private</td>\n",
              "      <td>1</td>\n",
              "      <td>228.69</td>\n",
              "      <td>36.600000</td>\n",
              "      <td>formerly smoked</td>\n",
              "      <td>1</td>\n",
              "    </tr>\n",
              "    <tr>\n",
              "      <th>1</th>\n",
              "      <td>Female</td>\n",
              "      <td>61.0</td>\n",
              "      <td>0</td>\n",
              "      <td>0</td>\n",
              "      <td>1</td>\n",
              "      <td>Self-employed</td>\n",
              "      <td>0</td>\n",
              "      <td>202.21</td>\n",
              "      <td>29.035926</td>\n",
              "      <td>never smoked</td>\n",
              "      <td>1</td>\n",
              "    </tr>\n",
              "    <tr>\n",
              "      <th>2</th>\n",
              "      <td>Male</td>\n",
              "      <td>80.0</td>\n",
              "      <td>0</td>\n",
              "      <td>1</td>\n",
              "      <td>1</td>\n",
              "      <td>Private</td>\n",
              "      <td>0</td>\n",
              "      <td>105.92</td>\n",
              "      <td>32.500000</td>\n",
              "      <td>never smoked</td>\n",
              "      <td>1</td>\n",
              "    </tr>\n",
              "    <tr>\n",
              "      <th>3</th>\n",
              "      <td>Female</td>\n",
              "      <td>49.0</td>\n",
              "      <td>0</td>\n",
              "      <td>0</td>\n",
              "      <td>1</td>\n",
              "      <td>Private</td>\n",
              "      <td>1</td>\n",
              "      <td>171.23</td>\n",
              "      <td>34.400000</td>\n",
              "      <td>smokes</td>\n",
              "      <td>1</td>\n",
              "    </tr>\n",
              "    <tr>\n",
              "      <th>4</th>\n",
              "      <td>Female</td>\n",
              "      <td>79.0</td>\n",
              "      <td>1</td>\n",
              "      <td>0</td>\n",
              "      <td>1</td>\n",
              "      <td>Self-employed</td>\n",
              "      <td>0</td>\n",
              "      <td>174.12</td>\n",
              "      <td>24.000000</td>\n",
              "      <td>never smoked</td>\n",
              "      <td>1</td>\n",
              "    </tr>\n",
              "  </tbody>\n",
              "</table>\n",
              "</div>"
            ],
            "text/plain": [
              "   gender   age  hypertension  ...        bmi   smoking_status stroke\n",
              "0    Male  67.0             0  ...  36.600000  formerly smoked      1\n",
              "1  Female  61.0             0  ...  29.035926     never smoked      1\n",
              "2    Male  80.0             0  ...  32.500000     never smoked      1\n",
              "3  Female  49.0             0  ...  34.400000           smokes      1\n",
              "4  Female  79.0             1  ...  24.000000     never smoked      1\n",
              "\n",
              "[5 rows x 11 columns]"
            ]
          },
          "metadata": {
            "tags": []
          },
          "execution_count": 32
        }
      ]
    },
    {
      "cell_type": "code",
      "metadata": {
        "colab": {
          "base_uri": "https://localhost:8080/",
          "height": 424
        },
        "id": "c1HBVyuc4kHH",
        "outputId": "ad1a9490-7f82-42ff-bb7c-4a45abe2cb89"
      },
      "source": [
        "new_data['gender'] = pd.Categorical(new_data['gender'])\n",
        "datasetDummies_gender = pd.get_dummies(new_data['gender'], prefix = 'gender_encoded')\n",
        "datasetDummies_gender"
      ],
      "execution_count": null,
      "outputs": [
        {
          "output_type": "execute_result",
          "data": {
            "text/html": [
              "<div>\n",
              "<style scoped>\n",
              "    .dataframe tbody tr th:only-of-type {\n",
              "        vertical-align: middle;\n",
              "    }\n",
              "\n",
              "    .dataframe tbody tr th {\n",
              "        vertical-align: top;\n",
              "    }\n",
              "\n",
              "    .dataframe thead th {\n",
              "        text-align: right;\n",
              "    }\n",
              "</style>\n",
              "<table border=\"1\" class=\"dataframe\">\n",
              "  <thead>\n",
              "    <tr style=\"text-align: right;\">\n",
              "      <th></th>\n",
              "      <th>gender_encoded_Female</th>\n",
              "      <th>gender_encoded_Male</th>\n",
              "      <th>gender_encoded_Other</th>\n",
              "    </tr>\n",
              "  </thead>\n",
              "  <tbody>\n",
              "    <tr>\n",
              "      <th>0</th>\n",
              "      <td>0</td>\n",
              "      <td>1</td>\n",
              "      <td>0</td>\n",
              "    </tr>\n",
              "    <tr>\n",
              "      <th>1</th>\n",
              "      <td>1</td>\n",
              "      <td>0</td>\n",
              "      <td>0</td>\n",
              "    </tr>\n",
              "    <tr>\n",
              "      <th>2</th>\n",
              "      <td>0</td>\n",
              "      <td>1</td>\n",
              "      <td>0</td>\n",
              "    </tr>\n",
              "    <tr>\n",
              "      <th>3</th>\n",
              "      <td>1</td>\n",
              "      <td>0</td>\n",
              "      <td>0</td>\n",
              "    </tr>\n",
              "    <tr>\n",
              "      <th>4</th>\n",
              "      <td>1</td>\n",
              "      <td>0</td>\n",
              "      <td>0</td>\n",
              "    </tr>\n",
              "    <tr>\n",
              "      <th>...</th>\n",
              "      <td>...</td>\n",
              "      <td>...</td>\n",
              "      <td>...</td>\n",
              "    </tr>\n",
              "    <tr>\n",
              "      <th>5105</th>\n",
              "      <td>1</td>\n",
              "      <td>0</td>\n",
              "      <td>0</td>\n",
              "    </tr>\n",
              "    <tr>\n",
              "      <th>5106</th>\n",
              "      <td>1</td>\n",
              "      <td>0</td>\n",
              "      <td>0</td>\n",
              "    </tr>\n",
              "    <tr>\n",
              "      <th>5107</th>\n",
              "      <td>1</td>\n",
              "      <td>0</td>\n",
              "      <td>0</td>\n",
              "    </tr>\n",
              "    <tr>\n",
              "      <th>5108</th>\n",
              "      <td>0</td>\n",
              "      <td>1</td>\n",
              "      <td>0</td>\n",
              "    </tr>\n",
              "    <tr>\n",
              "      <th>5109</th>\n",
              "      <td>1</td>\n",
              "      <td>0</td>\n",
              "      <td>0</td>\n",
              "    </tr>\n",
              "  </tbody>\n",
              "</table>\n",
              "<p>5110 rows × 3 columns</p>\n",
              "</div>"
            ],
            "text/plain": [
              "      gender_encoded_Female  gender_encoded_Male  gender_encoded_Other\n",
              "0                         0                    1                     0\n",
              "1                         1                    0                     0\n",
              "2                         0                    1                     0\n",
              "3                         1                    0                     0\n",
              "4                         1                    0                     0\n",
              "...                     ...                  ...                   ...\n",
              "5105                      1                    0                     0\n",
              "5106                      1                    0                     0\n",
              "5107                      1                    0                     0\n",
              "5108                      0                    1                     0\n",
              "5109                      1                    0                     0\n",
              "\n",
              "[5110 rows x 3 columns]"
            ]
          },
          "metadata": {
            "tags": []
          },
          "execution_count": 33
        }
      ]
    },
    {
      "cell_type": "code",
      "metadata": {
        "colab": {
          "base_uri": "https://localhost:8080/",
          "height": 461
        },
        "id": "UkYMWIF35lZu",
        "outputId": "b2fe9e88-e43a-4f2e-8bfe-d75b06f4e67c"
      },
      "source": [
        "new_data['work_type'] = pd.Categorical(new_data['work_type'])\n",
        "datasetDummies_work_type = pd.get_dummies(new_data['work_type'], prefix = 'work_type_encoded')\n",
        "datasetDummies_work_type"
      ],
      "execution_count": null,
      "outputs": [
        {
          "output_type": "execute_result",
          "data": {
            "text/html": [
              "<div>\n",
              "<style scoped>\n",
              "    .dataframe tbody tr th:only-of-type {\n",
              "        vertical-align: middle;\n",
              "    }\n",
              "\n",
              "    .dataframe tbody tr th {\n",
              "        vertical-align: top;\n",
              "    }\n",
              "\n",
              "    .dataframe thead th {\n",
              "        text-align: right;\n",
              "    }\n",
              "</style>\n",
              "<table border=\"1\" class=\"dataframe\">\n",
              "  <thead>\n",
              "    <tr style=\"text-align: right;\">\n",
              "      <th></th>\n",
              "      <th>work_type_encoded_Govt_job</th>\n",
              "      <th>work_type_encoded_Never_worked</th>\n",
              "      <th>work_type_encoded_Private</th>\n",
              "      <th>work_type_encoded_Self-employed</th>\n",
              "      <th>work_type_encoded_children</th>\n",
              "    </tr>\n",
              "  </thead>\n",
              "  <tbody>\n",
              "    <tr>\n",
              "      <th>0</th>\n",
              "      <td>0</td>\n",
              "      <td>0</td>\n",
              "      <td>1</td>\n",
              "      <td>0</td>\n",
              "      <td>0</td>\n",
              "    </tr>\n",
              "    <tr>\n",
              "      <th>1</th>\n",
              "      <td>0</td>\n",
              "      <td>0</td>\n",
              "      <td>0</td>\n",
              "      <td>1</td>\n",
              "      <td>0</td>\n",
              "    </tr>\n",
              "    <tr>\n",
              "      <th>2</th>\n",
              "      <td>0</td>\n",
              "      <td>0</td>\n",
              "      <td>1</td>\n",
              "      <td>0</td>\n",
              "      <td>0</td>\n",
              "    </tr>\n",
              "    <tr>\n",
              "      <th>3</th>\n",
              "      <td>0</td>\n",
              "      <td>0</td>\n",
              "      <td>1</td>\n",
              "      <td>0</td>\n",
              "      <td>0</td>\n",
              "    </tr>\n",
              "    <tr>\n",
              "      <th>4</th>\n",
              "      <td>0</td>\n",
              "      <td>0</td>\n",
              "      <td>0</td>\n",
              "      <td>1</td>\n",
              "      <td>0</td>\n",
              "    </tr>\n",
              "    <tr>\n",
              "      <th>...</th>\n",
              "      <td>...</td>\n",
              "      <td>...</td>\n",
              "      <td>...</td>\n",
              "      <td>...</td>\n",
              "      <td>...</td>\n",
              "    </tr>\n",
              "    <tr>\n",
              "      <th>5105</th>\n",
              "      <td>0</td>\n",
              "      <td>0</td>\n",
              "      <td>1</td>\n",
              "      <td>0</td>\n",
              "      <td>0</td>\n",
              "    </tr>\n",
              "    <tr>\n",
              "      <th>5106</th>\n",
              "      <td>0</td>\n",
              "      <td>0</td>\n",
              "      <td>0</td>\n",
              "      <td>1</td>\n",
              "      <td>0</td>\n",
              "    </tr>\n",
              "    <tr>\n",
              "      <th>5107</th>\n",
              "      <td>0</td>\n",
              "      <td>0</td>\n",
              "      <td>0</td>\n",
              "      <td>1</td>\n",
              "      <td>0</td>\n",
              "    </tr>\n",
              "    <tr>\n",
              "      <th>5108</th>\n",
              "      <td>0</td>\n",
              "      <td>0</td>\n",
              "      <td>1</td>\n",
              "      <td>0</td>\n",
              "      <td>0</td>\n",
              "    </tr>\n",
              "    <tr>\n",
              "      <th>5109</th>\n",
              "      <td>1</td>\n",
              "      <td>0</td>\n",
              "      <td>0</td>\n",
              "      <td>0</td>\n",
              "      <td>0</td>\n",
              "    </tr>\n",
              "  </tbody>\n",
              "</table>\n",
              "<p>5110 rows × 5 columns</p>\n",
              "</div>"
            ],
            "text/plain": [
              "      work_type_encoded_Govt_job  ...  work_type_encoded_children\n",
              "0                              0  ...                           0\n",
              "1                              0  ...                           0\n",
              "2                              0  ...                           0\n",
              "3                              0  ...                           0\n",
              "4                              0  ...                           0\n",
              "...                          ...  ...                         ...\n",
              "5105                           0  ...                           0\n",
              "5106                           0  ...                           0\n",
              "5107                           0  ...                           0\n",
              "5108                           0  ...                           0\n",
              "5109                           1  ...                           0\n",
              "\n",
              "[5110 rows x 5 columns]"
            ]
          },
          "metadata": {
            "tags": []
          },
          "execution_count": 34
        }
      ]
    },
    {
      "cell_type": "code",
      "metadata": {
        "id": "9kLjtXDP6Bk2",
        "colab": {
          "base_uri": "https://localhost:8080/",
          "height": 441
        },
        "outputId": "896303bf-3eb8-43e9-e668-64a39b5bbe10"
      },
      "source": [
        "new_data['smoking_status'] = pd.Categorical(new_data['smoking_status'])\n",
        "datasetDummies_smoking_status = pd.get_dummies(new_data['smoking_status'], prefix = 'smoking_status_encoded')\n",
        "datasetDummies_smoking_status"
      ],
      "execution_count": null,
      "outputs": [
        {
          "output_type": "execute_result",
          "data": {
            "text/html": [
              "<div>\n",
              "<style scoped>\n",
              "    .dataframe tbody tr th:only-of-type {\n",
              "        vertical-align: middle;\n",
              "    }\n",
              "\n",
              "    .dataframe tbody tr th {\n",
              "        vertical-align: top;\n",
              "    }\n",
              "\n",
              "    .dataframe thead th {\n",
              "        text-align: right;\n",
              "    }\n",
              "</style>\n",
              "<table border=\"1\" class=\"dataframe\">\n",
              "  <thead>\n",
              "    <tr style=\"text-align: right;\">\n",
              "      <th></th>\n",
              "      <th>smoking_status_encoded_Unknown</th>\n",
              "      <th>smoking_status_encoded_formerly smoked</th>\n",
              "      <th>smoking_status_encoded_never smoked</th>\n",
              "      <th>smoking_status_encoded_smokes</th>\n",
              "    </tr>\n",
              "  </thead>\n",
              "  <tbody>\n",
              "    <tr>\n",
              "      <th>0</th>\n",
              "      <td>0</td>\n",
              "      <td>1</td>\n",
              "      <td>0</td>\n",
              "      <td>0</td>\n",
              "    </tr>\n",
              "    <tr>\n",
              "      <th>1</th>\n",
              "      <td>0</td>\n",
              "      <td>0</td>\n",
              "      <td>1</td>\n",
              "      <td>0</td>\n",
              "    </tr>\n",
              "    <tr>\n",
              "      <th>2</th>\n",
              "      <td>0</td>\n",
              "      <td>0</td>\n",
              "      <td>1</td>\n",
              "      <td>0</td>\n",
              "    </tr>\n",
              "    <tr>\n",
              "      <th>3</th>\n",
              "      <td>0</td>\n",
              "      <td>0</td>\n",
              "      <td>0</td>\n",
              "      <td>1</td>\n",
              "    </tr>\n",
              "    <tr>\n",
              "      <th>4</th>\n",
              "      <td>0</td>\n",
              "      <td>0</td>\n",
              "      <td>1</td>\n",
              "      <td>0</td>\n",
              "    </tr>\n",
              "    <tr>\n",
              "      <th>...</th>\n",
              "      <td>...</td>\n",
              "      <td>...</td>\n",
              "      <td>...</td>\n",
              "      <td>...</td>\n",
              "    </tr>\n",
              "    <tr>\n",
              "      <th>5105</th>\n",
              "      <td>0</td>\n",
              "      <td>0</td>\n",
              "      <td>1</td>\n",
              "      <td>0</td>\n",
              "    </tr>\n",
              "    <tr>\n",
              "      <th>5106</th>\n",
              "      <td>0</td>\n",
              "      <td>0</td>\n",
              "      <td>1</td>\n",
              "      <td>0</td>\n",
              "    </tr>\n",
              "    <tr>\n",
              "      <th>5107</th>\n",
              "      <td>0</td>\n",
              "      <td>0</td>\n",
              "      <td>1</td>\n",
              "      <td>0</td>\n",
              "    </tr>\n",
              "    <tr>\n",
              "      <th>5108</th>\n",
              "      <td>0</td>\n",
              "      <td>1</td>\n",
              "      <td>0</td>\n",
              "      <td>0</td>\n",
              "    </tr>\n",
              "    <tr>\n",
              "      <th>5109</th>\n",
              "      <td>1</td>\n",
              "      <td>0</td>\n",
              "      <td>0</td>\n",
              "      <td>0</td>\n",
              "    </tr>\n",
              "  </tbody>\n",
              "</table>\n",
              "<p>5110 rows × 4 columns</p>\n",
              "</div>"
            ],
            "text/plain": [
              "      smoking_status_encoded_Unknown  ...  smoking_status_encoded_smokes\n",
              "0                                  0  ...                              0\n",
              "1                                  0  ...                              0\n",
              "2                                  0  ...                              0\n",
              "3                                  0  ...                              1\n",
              "4                                  0  ...                              0\n",
              "...                              ...  ...                            ...\n",
              "5105                               0  ...                              0\n",
              "5106                               0  ...                              0\n",
              "5107                               0  ...                              0\n",
              "5108                               0  ...                              0\n",
              "5109                               1  ...                              0\n",
              "\n",
              "[5110 rows x 4 columns]"
            ]
          },
          "metadata": {
            "tags": []
          },
          "execution_count": 35
        }
      ]
    },
    {
      "cell_type": "code",
      "metadata": {
        "colab": {
          "base_uri": "https://localhost:8080/",
          "height": 461
        },
        "id": "AXvIydmd7eJA",
        "outputId": "a07ab07a-c644-4f29-c0bf-7fbc3e7dcc7e"
      },
      "source": [
        "new_data.drop(\"gender\", axis=1, inplace=True)\n",
        "new_data.drop(\"work_type\", axis=1, inplace=True)\n",
        "new_data.drop(\"smoking_status\", axis=1, inplace=True)\n",
        "new_data = pd.concat([new_data, datasetDummies_gender], axis=1)\n",
        "new_data = pd.concat([new_data, datasetDummies_work_type], axis=1)\n",
        "new_data = pd.concat([new_data, datasetDummies_smoking_status], axis=1)\n",
        "new_data"
      ],
      "execution_count": null,
      "outputs": [
        {
          "output_type": "execute_result",
          "data": {
            "text/html": [
              "<div>\n",
              "<style scoped>\n",
              "    .dataframe tbody tr th:only-of-type {\n",
              "        vertical-align: middle;\n",
              "    }\n",
              "\n",
              "    .dataframe tbody tr th {\n",
              "        vertical-align: top;\n",
              "    }\n",
              "\n",
              "    .dataframe thead th {\n",
              "        text-align: right;\n",
              "    }\n",
              "</style>\n",
              "<table border=\"1\" class=\"dataframe\">\n",
              "  <thead>\n",
              "    <tr style=\"text-align: right;\">\n",
              "      <th></th>\n",
              "      <th>age</th>\n",
              "      <th>hypertension</th>\n",
              "      <th>heart_disease</th>\n",
              "      <th>ever_married</th>\n",
              "      <th>Residence_type</th>\n",
              "      <th>avg_glucose_level</th>\n",
              "      <th>bmi</th>\n",
              "      <th>stroke</th>\n",
              "      <th>gender_encoded_Female</th>\n",
              "      <th>gender_encoded_Male</th>\n",
              "      <th>gender_encoded_Other</th>\n",
              "      <th>work_type_encoded_Govt_job</th>\n",
              "      <th>work_type_encoded_Never_worked</th>\n",
              "      <th>work_type_encoded_Private</th>\n",
              "      <th>work_type_encoded_Self-employed</th>\n",
              "      <th>work_type_encoded_children</th>\n",
              "      <th>smoking_status_encoded_Unknown</th>\n",
              "      <th>smoking_status_encoded_formerly smoked</th>\n",
              "      <th>smoking_status_encoded_never smoked</th>\n",
              "      <th>smoking_status_encoded_smokes</th>\n",
              "    </tr>\n",
              "  </thead>\n",
              "  <tbody>\n",
              "    <tr>\n",
              "      <th>0</th>\n",
              "      <td>67.0</td>\n",
              "      <td>0</td>\n",
              "      <td>1</td>\n",
              "      <td>1</td>\n",
              "      <td>1</td>\n",
              "      <td>228.69</td>\n",
              "      <td>36.600000</td>\n",
              "      <td>1</td>\n",
              "      <td>0</td>\n",
              "      <td>1</td>\n",
              "      <td>0</td>\n",
              "      <td>0</td>\n",
              "      <td>0</td>\n",
              "      <td>1</td>\n",
              "      <td>0</td>\n",
              "      <td>0</td>\n",
              "      <td>0</td>\n",
              "      <td>1</td>\n",
              "      <td>0</td>\n",
              "      <td>0</td>\n",
              "    </tr>\n",
              "    <tr>\n",
              "      <th>1</th>\n",
              "      <td>61.0</td>\n",
              "      <td>0</td>\n",
              "      <td>0</td>\n",
              "      <td>1</td>\n",
              "      <td>0</td>\n",
              "      <td>202.21</td>\n",
              "      <td>29.035926</td>\n",
              "      <td>1</td>\n",
              "      <td>1</td>\n",
              "      <td>0</td>\n",
              "      <td>0</td>\n",
              "      <td>0</td>\n",
              "      <td>0</td>\n",
              "      <td>0</td>\n",
              "      <td>1</td>\n",
              "      <td>0</td>\n",
              "      <td>0</td>\n",
              "      <td>0</td>\n",
              "      <td>1</td>\n",
              "      <td>0</td>\n",
              "    </tr>\n",
              "    <tr>\n",
              "      <th>2</th>\n",
              "      <td>80.0</td>\n",
              "      <td>0</td>\n",
              "      <td>1</td>\n",
              "      <td>1</td>\n",
              "      <td>0</td>\n",
              "      <td>105.92</td>\n",
              "      <td>32.500000</td>\n",
              "      <td>1</td>\n",
              "      <td>0</td>\n",
              "      <td>1</td>\n",
              "      <td>0</td>\n",
              "      <td>0</td>\n",
              "      <td>0</td>\n",
              "      <td>1</td>\n",
              "      <td>0</td>\n",
              "      <td>0</td>\n",
              "      <td>0</td>\n",
              "      <td>0</td>\n",
              "      <td>1</td>\n",
              "      <td>0</td>\n",
              "    </tr>\n",
              "    <tr>\n",
              "      <th>3</th>\n",
              "      <td>49.0</td>\n",
              "      <td>0</td>\n",
              "      <td>0</td>\n",
              "      <td>1</td>\n",
              "      <td>1</td>\n",
              "      <td>171.23</td>\n",
              "      <td>34.400000</td>\n",
              "      <td>1</td>\n",
              "      <td>1</td>\n",
              "      <td>0</td>\n",
              "      <td>0</td>\n",
              "      <td>0</td>\n",
              "      <td>0</td>\n",
              "      <td>1</td>\n",
              "      <td>0</td>\n",
              "      <td>0</td>\n",
              "      <td>0</td>\n",
              "      <td>0</td>\n",
              "      <td>0</td>\n",
              "      <td>1</td>\n",
              "    </tr>\n",
              "    <tr>\n",
              "      <th>4</th>\n",
              "      <td>79.0</td>\n",
              "      <td>1</td>\n",
              "      <td>0</td>\n",
              "      <td>1</td>\n",
              "      <td>0</td>\n",
              "      <td>174.12</td>\n",
              "      <td>24.000000</td>\n",
              "      <td>1</td>\n",
              "      <td>1</td>\n",
              "      <td>0</td>\n",
              "      <td>0</td>\n",
              "      <td>0</td>\n",
              "      <td>0</td>\n",
              "      <td>0</td>\n",
              "      <td>1</td>\n",
              "      <td>0</td>\n",
              "      <td>0</td>\n",
              "      <td>0</td>\n",
              "      <td>1</td>\n",
              "      <td>0</td>\n",
              "    </tr>\n",
              "    <tr>\n",
              "      <th>...</th>\n",
              "      <td>...</td>\n",
              "      <td>...</td>\n",
              "      <td>...</td>\n",
              "      <td>...</td>\n",
              "      <td>...</td>\n",
              "      <td>...</td>\n",
              "      <td>...</td>\n",
              "      <td>...</td>\n",
              "      <td>...</td>\n",
              "      <td>...</td>\n",
              "      <td>...</td>\n",
              "      <td>...</td>\n",
              "      <td>...</td>\n",
              "      <td>...</td>\n",
              "      <td>...</td>\n",
              "      <td>...</td>\n",
              "      <td>...</td>\n",
              "      <td>...</td>\n",
              "      <td>...</td>\n",
              "      <td>...</td>\n",
              "    </tr>\n",
              "    <tr>\n",
              "      <th>5105</th>\n",
              "      <td>80.0</td>\n",
              "      <td>1</td>\n",
              "      <td>0</td>\n",
              "      <td>1</td>\n",
              "      <td>1</td>\n",
              "      <td>83.75</td>\n",
              "      <td>0.000000</td>\n",
              "      <td>0</td>\n",
              "      <td>1</td>\n",
              "      <td>0</td>\n",
              "      <td>0</td>\n",
              "      <td>0</td>\n",
              "      <td>0</td>\n",
              "      <td>1</td>\n",
              "      <td>0</td>\n",
              "      <td>0</td>\n",
              "      <td>0</td>\n",
              "      <td>0</td>\n",
              "      <td>1</td>\n",
              "      <td>0</td>\n",
              "    </tr>\n",
              "    <tr>\n",
              "      <th>5106</th>\n",
              "      <td>81.0</td>\n",
              "      <td>0</td>\n",
              "      <td>0</td>\n",
              "      <td>1</td>\n",
              "      <td>1</td>\n",
              "      <td>125.20</td>\n",
              "      <td>40.000000</td>\n",
              "      <td>0</td>\n",
              "      <td>1</td>\n",
              "      <td>0</td>\n",
              "      <td>0</td>\n",
              "      <td>0</td>\n",
              "      <td>0</td>\n",
              "      <td>0</td>\n",
              "      <td>1</td>\n",
              "      <td>0</td>\n",
              "      <td>0</td>\n",
              "      <td>0</td>\n",
              "      <td>1</td>\n",
              "      <td>0</td>\n",
              "    </tr>\n",
              "    <tr>\n",
              "      <th>5107</th>\n",
              "      <td>35.0</td>\n",
              "      <td>0</td>\n",
              "      <td>0</td>\n",
              "      <td>1</td>\n",
              "      <td>0</td>\n",
              "      <td>82.99</td>\n",
              "      <td>30.600000</td>\n",
              "      <td>0</td>\n",
              "      <td>1</td>\n",
              "      <td>0</td>\n",
              "      <td>0</td>\n",
              "      <td>0</td>\n",
              "      <td>0</td>\n",
              "      <td>0</td>\n",
              "      <td>1</td>\n",
              "      <td>0</td>\n",
              "      <td>0</td>\n",
              "      <td>0</td>\n",
              "      <td>1</td>\n",
              "      <td>0</td>\n",
              "    </tr>\n",
              "    <tr>\n",
              "      <th>5108</th>\n",
              "      <td>51.0</td>\n",
              "      <td>0</td>\n",
              "      <td>0</td>\n",
              "      <td>1</td>\n",
              "      <td>0</td>\n",
              "      <td>166.29</td>\n",
              "      <td>25.600000</td>\n",
              "      <td>0</td>\n",
              "      <td>0</td>\n",
              "      <td>1</td>\n",
              "      <td>0</td>\n",
              "      <td>0</td>\n",
              "      <td>0</td>\n",
              "      <td>1</td>\n",
              "      <td>0</td>\n",
              "      <td>0</td>\n",
              "      <td>0</td>\n",
              "      <td>1</td>\n",
              "      <td>0</td>\n",
              "      <td>0</td>\n",
              "    </tr>\n",
              "    <tr>\n",
              "      <th>5109</th>\n",
              "      <td>44.0</td>\n",
              "      <td>0</td>\n",
              "      <td>0</td>\n",
              "      <td>1</td>\n",
              "      <td>1</td>\n",
              "      <td>85.28</td>\n",
              "      <td>26.200000</td>\n",
              "      <td>0</td>\n",
              "      <td>1</td>\n",
              "      <td>0</td>\n",
              "      <td>0</td>\n",
              "      <td>1</td>\n",
              "      <td>0</td>\n",
              "      <td>0</td>\n",
              "      <td>0</td>\n",
              "      <td>0</td>\n",
              "      <td>1</td>\n",
              "      <td>0</td>\n",
              "      <td>0</td>\n",
              "      <td>0</td>\n",
              "    </tr>\n",
              "  </tbody>\n",
              "</table>\n",
              "<p>5110 rows × 20 columns</p>\n",
              "</div>"
            ],
            "text/plain": [
              "       age  ...  smoking_status_encoded_smokes\n",
              "0     67.0  ...                              0\n",
              "1     61.0  ...                              0\n",
              "2     80.0  ...                              0\n",
              "3     49.0  ...                              1\n",
              "4     79.0  ...                              0\n",
              "...    ...  ...                            ...\n",
              "5105  80.0  ...                              0\n",
              "5106  81.0  ...                              0\n",
              "5107  35.0  ...                              0\n",
              "5108  51.0  ...                              0\n",
              "5109  44.0  ...                              0\n",
              "\n",
              "[5110 rows x 20 columns]"
            ]
          },
          "metadata": {
            "tags": []
          },
          "execution_count": 36
        }
      ]
    },
    {
      "cell_type": "code",
      "metadata": {
        "colab": {
          "base_uri": "https://localhost:8080/"
        },
        "id": "dPtIhl0KxQag",
        "outputId": "733d2a47-5ea3-4019-b96b-330f2c31ce97"
      },
      "source": [
        "new_data.info()"
      ],
      "execution_count": null,
      "outputs": [
        {
          "output_type": "stream",
          "text": [
            "<class 'pandas.core.frame.DataFrame'>\n",
            "RangeIndex: 5110 entries, 0 to 5109\n",
            "Data columns (total 20 columns):\n",
            " #   Column                                  Non-Null Count  Dtype  \n",
            "---  ------                                  --------------  -----  \n",
            " 0   age                                     5110 non-null   float64\n",
            " 1   hypertension                            5110 non-null   int64  \n",
            " 2   heart_disease                           5110 non-null   int64  \n",
            " 3   ever_married                            5110 non-null   int64  \n",
            " 4   Residence_type                          5110 non-null   int64  \n",
            " 5   avg_glucose_level                       5110 non-null   float64\n",
            " 6   bmi                                     5110 non-null   float64\n",
            " 7   stroke                                  5110 non-null   int64  \n",
            " 8   gender_encoded_Female                   5110 non-null   uint8  \n",
            " 9   gender_encoded_Male                     5110 non-null   uint8  \n",
            " 10  gender_encoded_Other                    5110 non-null   uint8  \n",
            " 11  work_type_encoded_Govt_job              5110 non-null   uint8  \n",
            " 12  work_type_encoded_Never_worked          5110 non-null   uint8  \n",
            " 13  work_type_encoded_Private               5110 non-null   uint8  \n",
            " 14  work_type_encoded_Self-employed         5110 non-null   uint8  \n",
            " 15  work_type_encoded_children              5110 non-null   uint8  \n",
            " 16  smoking_status_encoded_Unknown          5110 non-null   uint8  \n",
            " 17  smoking_status_encoded_formerly smoked  5110 non-null   uint8  \n",
            " 18  smoking_status_encoded_never smoked     5110 non-null   uint8  \n",
            " 19  smoking_status_encoded_smokes           5110 non-null   uint8  \n",
            "dtypes: float64(3), int64(5), uint8(12)\n",
            "memory usage: 379.4 KB\n"
          ],
          "name": "stdout"
        }
      ]
    },
    {
      "cell_type": "code",
      "metadata": {
        "id": "5PGIGIdevdtX",
        "colab": {
          "base_uri": "https://localhost:8080/"
        },
        "outputId": "b779d807-94fb-495b-eeb3-35fa61a714c6"
      },
      "source": [
        "stroke_data=new_data[\"stroke\"].copy()\n",
        "print(stroke_data)"
      ],
      "execution_count": null,
      "outputs": [
        {
          "output_type": "stream",
          "text": [
            "0       1\n",
            "1       1\n",
            "2       1\n",
            "3       1\n",
            "4       1\n",
            "       ..\n",
            "5105    0\n",
            "5106    0\n",
            "5107    0\n",
            "5108    0\n",
            "5109    0\n",
            "Name: stroke, Length: 5110, dtype: int64\n"
          ],
          "name": "stdout"
        }
      ]
    },
    {
      "cell_type": "code",
      "metadata": {
        "id": "JCR7pB5D-AEe"
      },
      "source": [
        "new_data.drop(\"stroke\", axis=1, inplace=True)\n",
        "new_data = pd.concat([new_data, stroke_data], axis=1)"
      ],
      "execution_count": null,
      "outputs": []
    },
    {
      "cell_type": "code",
      "metadata": {
        "colab": {
          "base_uri": "https://localhost:8080/",
          "height": 461
        },
        "id": "uSxzIebS-UBF",
        "outputId": "fa93a616-e76e-4c47-8efe-27164a731e5d"
      },
      "source": [
        "new_data"
      ],
      "execution_count": null,
      "outputs": [
        {
          "output_type": "execute_result",
          "data": {
            "text/html": [
              "<div>\n",
              "<style scoped>\n",
              "    .dataframe tbody tr th:only-of-type {\n",
              "        vertical-align: middle;\n",
              "    }\n",
              "\n",
              "    .dataframe tbody tr th {\n",
              "        vertical-align: top;\n",
              "    }\n",
              "\n",
              "    .dataframe thead th {\n",
              "        text-align: right;\n",
              "    }\n",
              "</style>\n",
              "<table border=\"1\" class=\"dataframe\">\n",
              "  <thead>\n",
              "    <tr style=\"text-align: right;\">\n",
              "      <th></th>\n",
              "      <th>age</th>\n",
              "      <th>hypertension</th>\n",
              "      <th>heart_disease</th>\n",
              "      <th>ever_married</th>\n",
              "      <th>Residence_type</th>\n",
              "      <th>avg_glucose_level</th>\n",
              "      <th>bmi</th>\n",
              "      <th>gender_encoded_Female</th>\n",
              "      <th>gender_encoded_Male</th>\n",
              "      <th>gender_encoded_Other</th>\n",
              "      <th>work_type_encoded_Govt_job</th>\n",
              "      <th>work_type_encoded_Never_worked</th>\n",
              "      <th>work_type_encoded_Private</th>\n",
              "      <th>work_type_encoded_Self-employed</th>\n",
              "      <th>work_type_encoded_children</th>\n",
              "      <th>smoking_status_encoded_Unknown</th>\n",
              "      <th>smoking_status_encoded_formerly smoked</th>\n",
              "      <th>smoking_status_encoded_never smoked</th>\n",
              "      <th>smoking_status_encoded_smokes</th>\n",
              "      <th>stroke</th>\n",
              "    </tr>\n",
              "  </thead>\n",
              "  <tbody>\n",
              "    <tr>\n",
              "      <th>0</th>\n",
              "      <td>67.0</td>\n",
              "      <td>0</td>\n",
              "      <td>1</td>\n",
              "      <td>1</td>\n",
              "      <td>1</td>\n",
              "      <td>228.69</td>\n",
              "      <td>36.600000</td>\n",
              "      <td>0</td>\n",
              "      <td>1</td>\n",
              "      <td>0</td>\n",
              "      <td>0</td>\n",
              "      <td>0</td>\n",
              "      <td>1</td>\n",
              "      <td>0</td>\n",
              "      <td>0</td>\n",
              "      <td>0</td>\n",
              "      <td>1</td>\n",
              "      <td>0</td>\n",
              "      <td>0</td>\n",
              "      <td>1</td>\n",
              "    </tr>\n",
              "    <tr>\n",
              "      <th>1</th>\n",
              "      <td>61.0</td>\n",
              "      <td>0</td>\n",
              "      <td>0</td>\n",
              "      <td>1</td>\n",
              "      <td>0</td>\n",
              "      <td>202.21</td>\n",
              "      <td>29.035926</td>\n",
              "      <td>1</td>\n",
              "      <td>0</td>\n",
              "      <td>0</td>\n",
              "      <td>0</td>\n",
              "      <td>0</td>\n",
              "      <td>0</td>\n",
              "      <td>1</td>\n",
              "      <td>0</td>\n",
              "      <td>0</td>\n",
              "      <td>0</td>\n",
              "      <td>1</td>\n",
              "      <td>0</td>\n",
              "      <td>1</td>\n",
              "    </tr>\n",
              "    <tr>\n",
              "      <th>2</th>\n",
              "      <td>80.0</td>\n",
              "      <td>0</td>\n",
              "      <td>1</td>\n",
              "      <td>1</td>\n",
              "      <td>0</td>\n",
              "      <td>105.92</td>\n",
              "      <td>32.500000</td>\n",
              "      <td>0</td>\n",
              "      <td>1</td>\n",
              "      <td>0</td>\n",
              "      <td>0</td>\n",
              "      <td>0</td>\n",
              "      <td>1</td>\n",
              "      <td>0</td>\n",
              "      <td>0</td>\n",
              "      <td>0</td>\n",
              "      <td>0</td>\n",
              "      <td>1</td>\n",
              "      <td>0</td>\n",
              "      <td>1</td>\n",
              "    </tr>\n",
              "    <tr>\n",
              "      <th>3</th>\n",
              "      <td>49.0</td>\n",
              "      <td>0</td>\n",
              "      <td>0</td>\n",
              "      <td>1</td>\n",
              "      <td>1</td>\n",
              "      <td>171.23</td>\n",
              "      <td>34.400000</td>\n",
              "      <td>1</td>\n",
              "      <td>0</td>\n",
              "      <td>0</td>\n",
              "      <td>0</td>\n",
              "      <td>0</td>\n",
              "      <td>1</td>\n",
              "      <td>0</td>\n",
              "      <td>0</td>\n",
              "      <td>0</td>\n",
              "      <td>0</td>\n",
              "      <td>0</td>\n",
              "      <td>1</td>\n",
              "      <td>1</td>\n",
              "    </tr>\n",
              "    <tr>\n",
              "      <th>4</th>\n",
              "      <td>79.0</td>\n",
              "      <td>1</td>\n",
              "      <td>0</td>\n",
              "      <td>1</td>\n",
              "      <td>0</td>\n",
              "      <td>174.12</td>\n",
              "      <td>24.000000</td>\n",
              "      <td>1</td>\n",
              "      <td>0</td>\n",
              "      <td>0</td>\n",
              "      <td>0</td>\n",
              "      <td>0</td>\n",
              "      <td>0</td>\n",
              "      <td>1</td>\n",
              "      <td>0</td>\n",
              "      <td>0</td>\n",
              "      <td>0</td>\n",
              "      <td>1</td>\n",
              "      <td>0</td>\n",
              "      <td>1</td>\n",
              "    </tr>\n",
              "    <tr>\n",
              "      <th>...</th>\n",
              "      <td>...</td>\n",
              "      <td>...</td>\n",
              "      <td>...</td>\n",
              "      <td>...</td>\n",
              "      <td>...</td>\n",
              "      <td>...</td>\n",
              "      <td>...</td>\n",
              "      <td>...</td>\n",
              "      <td>...</td>\n",
              "      <td>...</td>\n",
              "      <td>...</td>\n",
              "      <td>...</td>\n",
              "      <td>...</td>\n",
              "      <td>...</td>\n",
              "      <td>...</td>\n",
              "      <td>...</td>\n",
              "      <td>...</td>\n",
              "      <td>...</td>\n",
              "      <td>...</td>\n",
              "      <td>...</td>\n",
              "    </tr>\n",
              "    <tr>\n",
              "      <th>5105</th>\n",
              "      <td>80.0</td>\n",
              "      <td>1</td>\n",
              "      <td>0</td>\n",
              "      <td>1</td>\n",
              "      <td>1</td>\n",
              "      <td>83.75</td>\n",
              "      <td>0.000000</td>\n",
              "      <td>1</td>\n",
              "      <td>0</td>\n",
              "      <td>0</td>\n",
              "      <td>0</td>\n",
              "      <td>0</td>\n",
              "      <td>1</td>\n",
              "      <td>0</td>\n",
              "      <td>0</td>\n",
              "      <td>0</td>\n",
              "      <td>0</td>\n",
              "      <td>1</td>\n",
              "      <td>0</td>\n",
              "      <td>0</td>\n",
              "    </tr>\n",
              "    <tr>\n",
              "      <th>5106</th>\n",
              "      <td>81.0</td>\n",
              "      <td>0</td>\n",
              "      <td>0</td>\n",
              "      <td>1</td>\n",
              "      <td>1</td>\n",
              "      <td>125.20</td>\n",
              "      <td>40.000000</td>\n",
              "      <td>1</td>\n",
              "      <td>0</td>\n",
              "      <td>0</td>\n",
              "      <td>0</td>\n",
              "      <td>0</td>\n",
              "      <td>0</td>\n",
              "      <td>1</td>\n",
              "      <td>0</td>\n",
              "      <td>0</td>\n",
              "      <td>0</td>\n",
              "      <td>1</td>\n",
              "      <td>0</td>\n",
              "      <td>0</td>\n",
              "    </tr>\n",
              "    <tr>\n",
              "      <th>5107</th>\n",
              "      <td>35.0</td>\n",
              "      <td>0</td>\n",
              "      <td>0</td>\n",
              "      <td>1</td>\n",
              "      <td>0</td>\n",
              "      <td>82.99</td>\n",
              "      <td>30.600000</td>\n",
              "      <td>1</td>\n",
              "      <td>0</td>\n",
              "      <td>0</td>\n",
              "      <td>0</td>\n",
              "      <td>0</td>\n",
              "      <td>0</td>\n",
              "      <td>1</td>\n",
              "      <td>0</td>\n",
              "      <td>0</td>\n",
              "      <td>0</td>\n",
              "      <td>1</td>\n",
              "      <td>0</td>\n",
              "      <td>0</td>\n",
              "    </tr>\n",
              "    <tr>\n",
              "      <th>5108</th>\n",
              "      <td>51.0</td>\n",
              "      <td>0</td>\n",
              "      <td>0</td>\n",
              "      <td>1</td>\n",
              "      <td>0</td>\n",
              "      <td>166.29</td>\n",
              "      <td>25.600000</td>\n",
              "      <td>0</td>\n",
              "      <td>1</td>\n",
              "      <td>0</td>\n",
              "      <td>0</td>\n",
              "      <td>0</td>\n",
              "      <td>1</td>\n",
              "      <td>0</td>\n",
              "      <td>0</td>\n",
              "      <td>0</td>\n",
              "      <td>1</td>\n",
              "      <td>0</td>\n",
              "      <td>0</td>\n",
              "      <td>0</td>\n",
              "    </tr>\n",
              "    <tr>\n",
              "      <th>5109</th>\n",
              "      <td>44.0</td>\n",
              "      <td>0</td>\n",
              "      <td>0</td>\n",
              "      <td>1</td>\n",
              "      <td>1</td>\n",
              "      <td>85.28</td>\n",
              "      <td>26.200000</td>\n",
              "      <td>1</td>\n",
              "      <td>0</td>\n",
              "      <td>0</td>\n",
              "      <td>1</td>\n",
              "      <td>0</td>\n",
              "      <td>0</td>\n",
              "      <td>0</td>\n",
              "      <td>0</td>\n",
              "      <td>1</td>\n",
              "      <td>0</td>\n",
              "      <td>0</td>\n",
              "      <td>0</td>\n",
              "      <td>0</td>\n",
              "    </tr>\n",
              "  </tbody>\n",
              "</table>\n",
              "<p>5110 rows × 20 columns</p>\n",
              "</div>"
            ],
            "text/plain": [
              "       age  hypertension  ...  smoking_status_encoded_smokes  stroke\n",
              "0     67.0             0  ...                              0       1\n",
              "1     61.0             0  ...                              0       1\n",
              "2     80.0             0  ...                              0       1\n",
              "3     49.0             0  ...                              1       1\n",
              "4     79.0             1  ...                              0       1\n",
              "...    ...           ...  ...                            ...     ...\n",
              "5105  80.0             1  ...                              0       0\n",
              "5106  81.0             0  ...                              0       0\n",
              "5107  35.0             0  ...                              0       0\n",
              "5108  51.0             0  ...                              0       0\n",
              "5109  44.0             0  ...                              0       0\n",
              "\n",
              "[5110 rows x 20 columns]"
            ]
          },
          "metadata": {
            "tags": []
          },
          "execution_count": 40
        }
      ]
    },
    {
      "cell_type": "markdown",
      "metadata": {
        "id": "qe2KKkjfgg0W"
      },
      "source": [
        "**Separating the Independent and Dependent Features**"
      ]
    },
    {
      "cell_type": "code",
      "metadata": {
        "id": "zprF32le0Htr"
      },
      "source": [
        "X= new_data.iloc[:,:-1].values\n",
        "y=new_data.iloc[:,-1].values"
      ],
      "execution_count": null,
      "outputs": []
    },
    {
      "cell_type": "code",
      "metadata": {
        "colab": {
          "base_uri": "https://localhost:8080/"
        },
        "id": "KOh7BJKK-04t",
        "outputId": "32f12d06-dbe9-4dfe-b6bf-fbc572f47af4"
      },
      "source": [
        "X"
      ],
      "execution_count": null,
      "outputs": [
        {
          "output_type": "execute_result",
          "data": {
            "text/plain": [
              "array([[67.,  0.,  1., ...,  1.,  0.,  0.],\n",
              "       [61.,  0.,  0., ...,  0.,  1.,  0.],\n",
              "       [80.,  0.,  1., ...,  0.,  1.,  0.],\n",
              "       ...,\n",
              "       [35.,  0.,  0., ...,  0.,  1.,  0.],\n",
              "       [51.,  0.,  0., ...,  1.,  0.,  0.],\n",
              "       [44.,  0.,  0., ...,  0.,  0.,  0.]])"
            ]
          },
          "metadata": {
            "tags": []
          },
          "execution_count": 42
        }
      ]
    },
    {
      "cell_type": "code",
      "metadata": {
        "colab": {
          "base_uri": "https://localhost:8080/"
        },
        "id": "g14GpsfR_SWk",
        "outputId": "51f914ee-bd5a-45d0-940c-99af65043052"
      },
      "source": [
        "y"
      ],
      "execution_count": null,
      "outputs": [
        {
          "output_type": "execute_result",
          "data": {
            "text/plain": [
              "array([1, 1, 1, ..., 0, 0, 0])"
            ]
          },
          "metadata": {
            "tags": []
          },
          "execution_count": 43
        }
      ]
    },
    {
      "cell_type": "markdown",
      "metadata": {
        "id": "ND74MlUDgu1O"
      },
      "source": [
        "**Creating the Training and Testing Dataset**"
      ]
    },
    {
      "cell_type": "code",
      "metadata": {
        "id": "Ce9o2Z_j_VZ8"
      },
      "source": [
        "from sklearn.model_selection import  train_test_split\n",
        "X_train, X_test, y_train, y_test = train_test_split(X, y, test_size=0.2, random_state=0) "
      ],
      "execution_count": null,
      "outputs": []
    },
    {
      "cell_type": "code",
      "metadata": {
        "colab": {
          "base_uri": "https://localhost:8080/"
        },
        "id": "9hPBXe_d_v-d",
        "outputId": "ddf64428-9ffe-4e30-cef7-99ea5600d9e0"
      },
      "source": [
        "print(f'Total # of sample in whole dataset: {len(X)}')\n",
        "print(f'Total # of sample in train dataset: {len(X_train)}')\n",
        "print(f'Total # of sample in test dataset: {len(X_test)}')"
      ],
      "execution_count": null,
      "outputs": [
        {
          "output_type": "stream",
          "text": [
            "Total # of sample in whole dataset: 5110\n",
            "Total # of sample in train dataset: 4088\n",
            "Total # of sample in test dataset: 1022\n"
          ],
          "name": "stdout"
        }
      ]
    },
    {
      "cell_type": "code",
      "metadata": {
        "colab": {
          "base_uri": "https://localhost:8080/"
        },
        "id": "YFuPMI6kAUXA",
        "outputId": "9e23df38-02d0-4433-8461-51931920face"
      },
      "source": [
        "X_train"
      ],
      "execution_count": null,
      "outputs": [
        {
          "output_type": "execute_result",
          "data": {
            "text/plain": [
              "array([[36.,  0.,  0., ...,  1.,  0.,  0.],\n",
              "       [34.,  0.,  0., ...,  1.,  0.,  0.],\n",
              "       [60.,  0.,  0., ...,  0.,  1.,  0.],\n",
              "       ...,\n",
              "       [44.,  0.,  0., ...,  0.,  0.,  1.],\n",
              "       [21.,  0.,  0., ...,  1.,  0.,  0.],\n",
              "       [58.,  1.,  0., ...,  0.,  1.,  0.]])"
            ]
          },
          "metadata": {
            "tags": []
          },
          "execution_count": 47
        }
      ]
    },
    {
      "cell_type": "markdown",
      "metadata": {
        "id": "AU8NvzEEg6Pt"
      },
      "source": [
        "**Scaling the Dataset**"
      ]
    },
    {
      "cell_type": "code",
      "metadata": {
        "id": "0L3Y1piMACec"
      },
      "source": [
        "from sklearn.preprocessing import StandardScaler\n",
        "sc= StandardScaler()\n",
        "X_train = sc.fit_transform(X_train)\n",
        "X_test = sc.transform(X_test)"
      ],
      "execution_count": null,
      "outputs": []
    },
    {
      "cell_type": "code",
      "metadata": {
        "colab": {
          "base_uri": "https://localhost:8080/"
        },
        "id": "Q8PZ3EoXARLH",
        "outputId": "6b909cb4-b2d8-41e9-9036-3fd8790bdb2a"
      },
      "source": [
        "X_train"
      ],
      "execution_count": null,
      "outputs": [
        {
          "output_type": "execute_result",
          "data": {
            "text/plain": [
              "array([[-0.32824306, -0.33206349, -0.23963241, ...,  2.17751533,\n",
              "        -0.76532697, -0.42963261],\n",
              "       [-0.41649391, -0.33206349, -0.23963241, ...,  2.17751533,\n",
              "        -0.76532697, -0.42963261],\n",
              "       [ 0.73076708, -0.33206349, -0.23963241, ..., -0.45923902,\n",
              "         1.30663108, -0.42963261],\n",
              "       ...,\n",
              "       [ 0.02476032, -0.33206349, -0.23963241, ..., -0.45923902,\n",
              "        -0.76532697,  2.32757007],\n",
              "       [-0.9901244 , -0.33206349, -0.23963241, ...,  2.17751533,\n",
              "        -0.76532697, -0.42963261],\n",
              "       [ 0.64251624,  3.01147232, -0.23963241, ..., -0.45923902,\n",
              "         1.30663108, -0.42963261]])"
            ]
          },
          "metadata": {
            "tags": []
          },
          "execution_count": 49
        }
      ]
    },
    {
      "cell_type": "code",
      "metadata": {
        "colab": {
          "base_uri": "https://localhost:8080/"
        },
        "id": "P1LKaCRFGkK5",
        "outputId": "51b2fc81-eda0-45d9-c507-d8bd8623f9d4"
      },
      "source": [
        "len(X_train[0])"
      ],
      "execution_count": null,
      "outputs": [
        {
          "output_type": "execute_result",
          "data": {
            "text/plain": [
              "19"
            ]
          },
          "metadata": {
            "tags": []
          },
          "execution_count": 50
        }
      ]
    },
    {
      "cell_type": "markdown",
      "metadata": {
        "id": "-jM0KlhUg_S-"
      },
      "source": [
        "**Creating the Model**"
      ]
    },
    {
      "cell_type": "code",
      "metadata": {
        "id": "Le4Esi_NBLni"
      },
      "source": [
        "import tensorflow as tf\n",
        "from tensorflow import keras\n",
        "from tensorflow.keras.models import Sequential\n",
        "from tensorflow.keras.layers import Activation,Dense\n",
        "from tensorflow.keras.optimizers import Adam\n",
        "from tensorflow.keras.metrics import categorical_crossentropy\n",
        "\n",
        "model=Sequential()\n",
        "model.add(Dense(50,activation='relu',input_shape=(19,)))\n",
        "model.add(Dense(50,activation='relu'))\n",
        "model.add(Dense(1,activation='sigmoid'))"
      ],
      "execution_count": null,
      "outputs": []
    },
    {
      "cell_type": "code",
      "metadata": {
        "colab": {
          "base_uri": "https://localhost:8080/"
        },
        "id": "NbMK2iceJs-u",
        "outputId": "4137f959-d44a-42f9-a54a-e672c5d70b59"
      },
      "source": [
        "model.summary()"
      ],
      "execution_count": null,
      "outputs": [
        {
          "output_type": "stream",
          "text": [
            "Model: \"sequential\"\n",
            "_________________________________________________________________\n",
            "Layer (type)                 Output Shape              Param #   \n",
            "=================================================================\n",
            "dense (Dense)                (None, 50)                1000      \n",
            "_________________________________________________________________\n",
            "dense_1 (Dense)              (None, 50)                2550      \n",
            "_________________________________________________________________\n",
            "dense_2 (Dense)              (None, 1)                 51        \n",
            "=================================================================\n",
            "Total params: 3,601\n",
            "Trainable params: 3,601\n",
            "Non-trainable params: 0\n",
            "_________________________________________________________________\n"
          ],
          "name": "stdout"
        }
      ]
    },
    {
      "cell_type": "markdown",
      "metadata": {
        "id": "VAoB8bpxhIev"
      },
      "source": [
        "**Training the Model**"
      ]
    },
    {
      "cell_type": "code",
      "metadata": {
        "colab": {
          "base_uri": "https://localhost:8080/"
        },
        "id": "X3BPuPxaJ6-i",
        "outputId": "ebfa0e61-a538-4f4e-f361-1cc6bd8d571c"
      },
      "source": [
        "model.compile(optimizer = 'adam',loss = 'binary_crossentropy',metrics = ['accuracy'])\n",
        "model.fit(X_train,y_train,epochs = 30,batch_size =3)"
      ],
      "execution_count": null,
      "outputs": [
        {
          "output_type": "stream",
          "text": [
            "Epoch 1/30\n",
            "1363/1363 [==============================] - 6s 2ms/step - loss: 0.2291 - accuracy: 0.9278\n",
            "Epoch 2/30\n",
            "1363/1363 [==============================] - 3s 2ms/step - loss: 0.1479 - accuracy: 0.9532\n",
            "Epoch 3/30\n",
            "1363/1363 [==============================] - 3s 2ms/step - loss: 0.1573 - accuracy: 0.9510\n",
            "Epoch 4/30\n",
            "1363/1363 [==============================] - 3s 2ms/step - loss: 0.1609 - accuracy: 0.9440\n",
            "Epoch 5/30\n",
            "1363/1363 [==============================] - 3s 2ms/step - loss: 0.1282 - accuracy: 0.9561\n",
            "Epoch 6/30\n",
            "1363/1363 [==============================] - 3s 2ms/step - loss: 0.1407 - accuracy: 0.9517\n",
            "Epoch 7/30\n",
            "1363/1363 [==============================] - 3s 2ms/step - loss: 0.1593 - accuracy: 0.9424\n",
            "Epoch 8/30\n",
            "1363/1363 [==============================] - 3s 2ms/step - loss: 0.1378 - accuracy: 0.9512\n",
            "Epoch 9/30\n",
            "1363/1363 [==============================] - 3s 2ms/step - loss: 0.1265 - accuracy: 0.9550\n",
            "Epoch 10/30\n",
            "1363/1363 [==============================] - 3s 2ms/step - loss: 0.1266 - accuracy: 0.9569\n",
            "Epoch 11/30\n",
            "1363/1363 [==============================] - 3s 2ms/step - loss: 0.1319 - accuracy: 0.9519\n",
            "Epoch 12/30\n",
            "1363/1363 [==============================] - 3s 2ms/step - loss: 0.1195 - accuracy: 0.9563\n",
            "Epoch 13/30\n",
            "1363/1363 [==============================] - 3s 2ms/step - loss: 0.1393 - accuracy: 0.9521\n",
            "Epoch 14/30\n",
            "1363/1363 [==============================] - 3s 2ms/step - loss: 0.1311 - accuracy: 0.9525\n",
            "Epoch 15/30\n",
            "1363/1363 [==============================] - 3s 2ms/step - loss: 0.1083 - accuracy: 0.9608\n",
            "Epoch 16/30\n",
            "1363/1363 [==============================] - 3s 2ms/step - loss: 0.1203 - accuracy: 0.9557\n",
            "Epoch 17/30\n",
            "1363/1363 [==============================] - 3s 2ms/step - loss: 0.1155 - accuracy: 0.9565\n",
            "Epoch 18/30\n",
            "1363/1363 [==============================] - 3s 2ms/step - loss: 0.1134 - accuracy: 0.9575\n",
            "Epoch 19/30\n",
            "1363/1363 [==============================] - 3s 2ms/step - loss: 0.0961 - accuracy: 0.9652\n",
            "Epoch 20/30\n",
            "1363/1363 [==============================] - 3s 2ms/step - loss: 0.1045 - accuracy: 0.9591\n",
            "Epoch 21/30\n",
            "1363/1363 [==============================] - 3s 2ms/step - loss: 0.1047 - accuracy: 0.9613\n",
            "Epoch 22/30\n",
            "1363/1363 [==============================] - 3s 2ms/step - loss: 0.1125 - accuracy: 0.9585\n",
            "Epoch 23/30\n",
            "1363/1363 [==============================] - 3s 2ms/step - loss: 0.0997 - accuracy: 0.9619\n",
            "Epoch 24/30\n",
            "1363/1363 [==============================] - 3s 2ms/step - loss: 0.1032 - accuracy: 0.9561\n",
            "Epoch 25/30\n",
            "1363/1363 [==============================] - 3s 2ms/step - loss: 0.1016 - accuracy: 0.9609\n",
            "Epoch 26/30\n",
            "1363/1363 [==============================] - 3s 2ms/step - loss: 0.1022 - accuracy: 0.9658\n",
            "Epoch 27/30\n",
            "1363/1363 [==============================] - 3s 2ms/step - loss: 0.0887 - accuracy: 0.9638\n",
            "Epoch 28/30\n",
            "1363/1363 [==============================] - 3s 2ms/step - loss: 0.0921 - accuracy: 0.9669\n",
            "Epoch 29/30\n",
            "1363/1363 [==============================] - 3s 2ms/step - loss: 0.1057 - accuracy: 0.9569\n",
            "Epoch 30/30\n",
            "1363/1363 [==============================] - 3s 2ms/step - loss: 0.0924 - accuracy: 0.9677\n"
          ],
          "name": "stdout"
        },
        {
          "output_type": "execute_result",
          "data": {
            "text/plain": [
              "<tensorflow.python.keras.callbacks.History at 0x7f58704091d0>"
            ]
          },
          "metadata": {
            "tags": []
          },
          "execution_count": 53
        }
      ]
    },
    {
      "cell_type": "markdown",
      "metadata": {
        "id": "rpsIpO4ahORW"
      },
      "source": [
        "**Testing the Model**"
      ]
    },
    {
      "cell_type": "code",
      "metadata": {
        "colab": {
          "base_uri": "https://localhost:8080/"
        },
        "id": "oima7Up8aBOO",
        "outputId": "29de3ee4-e469-47bc-bab0-f3aa95c4db0b"
      },
      "source": [
        "model.evaluate(x = X_test,y = y_test)"
      ],
      "execution_count": null,
      "outputs": [
        {
          "output_type": "stream",
          "text": [
            "32/32 [==============================] - 0s 2ms/step - loss: 0.3423 - accuracy: 0.9413\n"
          ],
          "name": "stdout"
        },
        {
          "output_type": "execute_result",
          "data": {
            "text/plain": [
              "[0.3423330783843994, 0.9412915706634521]"
            ]
          },
          "metadata": {
            "tags": []
          },
          "execution_count": 54
        }
      ]
    },
    {
      "cell_type": "code",
      "metadata": {
        "id": "QM4KSGEHhRAU",
        "colab": {
          "base_uri": "https://localhost:8080/"
        },
        "outputId": "8439fa1b-7f5c-4d31-c0f3-e41e0867f6e6"
      },
      "source": [
        "y_test"
      ],
      "execution_count": null,
      "outputs": [
        {
          "output_type": "execute_result",
          "data": {
            "text/plain": [
              "array([1, 0, 0, ..., 0, 1, 0])"
            ]
          },
          "metadata": {
            "tags": []
          },
          "execution_count": 55
        }
      ]
    },
    {
      "cell_type": "markdown",
      "metadata": {
        "id": "uZrjTyzuhhx1"
      },
      "source": [
        "**Predition Analysis**"
      ]
    },
    {
      "cell_type": "code",
      "metadata": {
        "colab": {
          "base_uri": "https://localhost:8080/"
        },
        "id": "Celb5BVXfP-R",
        "outputId": "ce5b9f2a-495d-494e-92ca-9b7cf76a2bf0"
      },
      "source": [
        "y_predict=model.predict(X_test)\n",
        "y_predict"
      ],
      "execution_count": null,
      "outputs": [
        {
          "output_type": "execute_result",
          "data": {
            "text/plain": [
              "array([[9.9088037e-01],\n",
              "       [9.9195662e-24],\n",
              "       [1.3860056e-02],\n",
              "       ...,\n",
              "       [9.2802368e-02],\n",
              "       [3.2025591e-02],\n",
              "       [8.3431965e-05]], dtype=float32)"
            ]
          },
          "metadata": {
            "tags": []
          },
          "execution_count": 56
        }
      ]
    },
    {
      "cell_type": "code",
      "metadata": {
        "colab": {
          "base_uri": "https://localhost:8080/"
        },
        "id": "e3aYRBHSfhXu",
        "outputId": "db3cd24d-da46-4c0f-ba7c-bc21eff1b118"
      },
      "source": [
        "for i in range(0,len(y_test)-1):\n",
        "  print(\"error = \"+ str(y_test[i]-y_predict[i]))\n",
        " "
      ],
      "execution_count": null,
      "outputs": [
        {
          "output_type": "stream",
          "text": [
            "error = [0.00911963]\n",
            "error = [-9.919566e-24]\n",
            "error = [-0.01386006]\n",
            "error = [-4.0258706e-13]\n",
            "error = [-1.8305832e-20]\n",
            "error = [-0.00019285]\n",
            "error = [-3.2771084e-06]\n",
            "error = [-0.00120564]\n",
            "error = [-0.0159293]\n",
            "error = [-0.17063926]\n",
            "error = [-0.09851913]\n",
            "error = [-2.7686488e-24]\n",
            "error = [-5.958109e-20]\n",
            "error = [-0.16345365]\n",
            "error = [-8.955245e-08]\n",
            "error = [-0.00071297]\n",
            "error = [-1.0554901e-14]\n",
            "error = [-6.7459666e-08]\n",
            "error = [-0.00418745]\n",
            "error = [-0.0252182]\n",
            "error = [-1.9554216e-09]\n",
            "error = [-1.3942442e-21]\n",
            "error = [-1.549023e-18]\n",
            "error = [-0.00013683]\n",
            "error = [0.94841355]\n",
            "error = [-0.00491597]\n",
            "error = [-2.0351021e-12]\n",
            "error = [-0.0287816]\n",
            "error = [-2.8079543e-21]\n",
            "error = [-0.00204147]\n",
            "error = [-2.1698288e-06]\n",
            "error = [-0.00086468]\n",
            "error = [0.95758635]\n",
            "error = [-1.4191282e-18]\n",
            "error = [-0.02183349]\n",
            "error = [-0.00141392]\n",
            "error = [-0.00637349]\n",
            "error = [-0.01861827]\n",
            "error = [-0.00034537]\n",
            "error = [-3.996029e-12]\n",
            "error = [-0.2527881]\n",
            "error = [-5.3086746e-06]\n",
            "error = [-0.00016224]\n",
            "error = [-2.5515602e-18]\n",
            "error = [-0.1049893]\n",
            "error = [-1.570626e-13]\n",
            "error = [-9.4890816e-21]\n",
            "error = [-0.0455271]\n",
            "error = [-0.00020039]\n",
            "error = [-0.02260338]\n",
            "error = [-4.7167108e-14]\n",
            "error = [-4.053689e-08]\n",
            "error = [-6.85644e-18]\n",
            "error = [0.98833483]\n",
            "error = [-0.02147915]\n",
            "error = [-2.300462e-24]\n",
            "error = [0.8872283]\n",
            "error = [-1.4643901e-23]\n",
            "error = [-0.03559442]\n",
            "error = [-8.1525926e-05]\n",
            "error = [-5.8027166e-10]\n",
            "error = [-2.9708222e-05]\n",
            "error = [-0.059644]\n",
            "error = [-6.642616e-21]\n",
            "error = [-1.6284646e-07]\n",
            "error = [-0.02330588]\n",
            "error = [-7.752588e-12]\n",
            "error = [-0.0001106]\n",
            "error = [-0.04316575]\n",
            "error = [-7.049259e-23]\n",
            "error = [-0.11002999]\n",
            "error = [-1.383217e-14]\n",
            "error = [0.95113176]\n",
            "error = [-9.5986305e-21]\n",
            "error = [-8.642611e-21]\n",
            "error = [-0.0004997]\n",
            "error = [-0.06156331]\n",
            "error = [-2.1120753e-19]\n",
            "error = [-0.0014479]\n",
            "error = [-0.00157101]\n",
            "error = [-0.04121465]\n",
            "error = [-0.4690868]\n",
            "error = [-0.10103001]\n",
            "error = [-0.0002052]\n",
            "error = [-0.19245523]\n",
            "error = [-0.00150396]\n",
            "error = [-0.05523939]\n",
            "error = [-8.1925426e-14]\n",
            "error = [-0.03994227]\n",
            "error = [-0.88097614]\n",
            "error = [0.98088795]\n",
            "error = [-0.18314652]\n",
            "error = [-0.0026532]\n",
            "error = [-3.510197e-12]\n",
            "error = [-1.3733445e-23]\n",
            "error = [0.9999999]\n",
            "error = [-6.7920834e-12]\n",
            "error = [-0.00505892]\n",
            "error = [-0.00248411]\n",
            "error = [-2.1390855e-14]\n",
            "error = [-0.00117409]\n",
            "error = [-1.4872347e-09]\n",
            "error = [-0.05535049]\n",
            "error = [-5.53144e-17]\n",
            "error = [-1.40830756e-14]\n",
            "error = [-0.00684729]\n",
            "error = [-7.918227e-24]\n",
            "error = [-1.0378061e-12]\n",
            "error = [-0.01115304]\n",
            "error = [-0.16406938]\n",
            "error = [-3.577796e-13]\n",
            "error = [-3.0202628e-07]\n",
            "error = [-0.09188283]\n",
            "error = [-0.02349561]\n",
            "error = [-0.04329899]\n",
            "error = [-0.05786891]\n",
            "error = [-0.00147751]\n",
            "error = [-0.00967716]\n",
            "error = [-0.03896102]\n",
            "error = [-4.409112e-22]\n",
            "error = [0.7857121]\n",
            "error = [-0.00929411]\n",
            "error = [-0.01992899]\n",
            "error = [-7.4119315e-09]\n",
            "error = [-0.02756869]\n",
            "error = [-0.04350246]\n",
            "error = [-7.138334e-07]\n",
            "error = [-0.00064812]\n",
            "error = [-0.00134385]\n",
            "error = [-4.4383726e-15]\n",
            "error = [-4.6311933e-14]\n",
            "error = [-0.00578245]\n",
            "error = [-0.00370466]\n",
            "error = [-8.8683705e-23]\n",
            "error = [-0.07552405]\n",
            "error = [0.97981447]\n",
            "error = [-1.8651208e-14]\n",
            "error = [-0.0008514]\n",
            "error = [-3.005978e-05]\n",
            "error = [-1.24507526e-23]\n",
            "error = [-0.00458408]\n",
            "error = [-2.1478596e-05]\n",
            "error = [0.9997643]\n",
            "error = [-0.00016833]\n",
            "error = [-0.0609605]\n",
            "error = [0.44397038]\n",
            "error = [-9.512992e-05]\n",
            "error = [-0.083211]\n",
            "error = [-0.02830818]\n",
            "error = [-0.03430786]\n",
            "error = [0.9999985]\n",
            "error = [-0.02246115]\n",
            "error = [-0.00372852]\n",
            "error = [-1.3390075e-20]\n",
            "error = [-1.42021404e-14]\n",
            "error = [-3.0751955e-05]\n",
            "error = [-0.00061603]\n",
            "error = [-0.0097232]\n",
            "error = [-0.00018219]\n",
            "error = [-0.02567702]\n",
            "error = [-5.4346135e-20]\n",
            "error = [-0.18044162]\n",
            "error = [-4.926348e-09]\n",
            "error = [-9.212117e-08]\n",
            "error = [-1.0113841e-08]\n",
            "error = [-0.00826743]\n",
            "error = [-0.00079086]\n",
            "error = [-3.3367422e-21]\n",
            "error = [-5.3802825e-08]\n",
            "error = [0.85070294]\n",
            "error = [-0.00017922]\n",
            "error = [-0.21280262]\n",
            "error = [-0.05521851]\n",
            "error = [-2.0683558e-21]\n",
            "error = [-9.372703e-06]\n",
            "error = [-0.00170312]\n",
            "error = [-0.00038992]\n",
            "error = [-0.00478338]\n",
            "error = [-0.05619251]\n",
            "error = [-2.4620808e-26]\n",
            "error = [-9.610554e-25]\n",
            "error = [-0.06573752]\n",
            "error = [-4.637589e-08]\n",
            "error = [-8.1635546e-05]\n",
            "error = [-0.15994829]\n",
            "error = [-4.7071053e-06]\n",
            "error = [-0.02277847]\n",
            "error = [-0.55242836]\n",
            "error = [-0.00023278]\n",
            "error = [-0.00898955]\n",
            "error = [-1.0619271e-15]\n",
            "error = [-0.0683581]\n",
            "error = [-0.00026557]\n",
            "error = [0.9242363]\n",
            "error = [-0.01419565]\n",
            "error = [-4.248854e-07]\n",
            "error = [0.9961818]\n",
            "error = [-0.00388639]\n",
            "error = [-1.2479556e-10]\n",
            "error = [-0.17202973]\n",
            "error = [-0.00899962]\n",
            "error = [-2.1296027e-23]\n",
            "error = [-0.00057989]\n",
            "error = [-0.03325678]\n",
            "error = [-8.409893e-06]\n",
            "error = [-0.16005743]\n",
            "error = [-8.292282e-24]\n",
            "error = [-2.6217394e-20]\n",
            "error = [-0.22174673]\n",
            "error = [-0.05312257]\n",
            "error = [-0.07918085]\n",
            "error = [-0.50488204]\n",
            "error = [-3.896423e-09]\n",
            "error = [-0.00293774]\n",
            "error = [-1.5669133e-16]\n",
            "error = [-0.00548696]\n",
            "error = [-0.06558876]\n",
            "error = [-0.01553939]\n",
            "error = [-5.9759974e-21]\n",
            "error = [-2.1760556e-18]\n",
            "error = [-8.489194e-11]\n",
            "error = [-2.2671646e-17]\n",
            "error = [-0.00565961]\n",
            "error = [-2.5246672e-15]\n",
            "error = [-0.01063624]\n",
            "error = [-0.00216948]\n",
            "error = [0.9975627]\n",
            "error = [-0.00032907]\n",
            "error = [-8.151998e-22]\n",
            "error = [-0.00067095]\n",
            "error = [-0.09890553]\n",
            "error = [-0.01356109]\n",
            "error = [-1.237626e-24]\n",
            "error = [-0.18246906]\n",
            "error = [-0.00525938]\n",
            "error = [-0.02639093]\n",
            "error = [-0.0266623]\n",
            "error = [-0.00042014]\n",
            "error = [-0.01423533]\n",
            "error = [-0.00218585]\n",
            "error = [-6.229877e-16]\n",
            "error = [-0.11566716]\n",
            "error = [-0.03173016]\n",
            "error = [-1.4636199e-15]\n",
            "error = [-5.0342357e-20]\n",
            "error = [-0.02674858]\n",
            "error = [-1.5687743e-11]\n",
            "error = [-0.14700042]\n",
            "error = [-1.6645653e-14]\n",
            "error = [-0.15725294]\n",
            "error = [-1.1698738e-09]\n",
            "error = [-1.1595542e-10]\n",
            "error = [-0.033967]\n",
            "error = [-2.0060233e-10]\n",
            "error = [-0.30886656]\n",
            "error = [-0.00271475]\n",
            "error = [-3.7019042e-06]\n",
            "error = [-4.3272068e-18]\n",
            "error = [-0.00023064]\n",
            "error = [-0.29874152]\n",
            "error = [-9.600212e-06]\n",
            "error = [-4.6435016e-05]\n",
            "error = [-0.00210269]\n",
            "error = [-6.032843e-15]\n",
            "error = [-0.05636764]\n",
            "error = [-0.00391481]\n",
            "error = [-0.03380093]\n",
            "error = [-5.1704282e-23]\n",
            "error = [-0.00052929]\n",
            "error = [-3.449693e-05]\n",
            "error = [-5.973712e-08]\n",
            "error = [-0.08979452]\n",
            "error = [-0.11984055]\n",
            "error = [-0.01761692]\n",
            "error = [-1.0385082e-10]\n",
            "error = [0.9999982]\n",
            "error = [-4.4766274e-13]\n",
            "error = [0.99955446]\n",
            "error = [-0.47780558]\n",
            "error = [-0.0162038]\n",
            "error = [-6.8268825e-22]\n",
            "error = [-8.4517975e-05]\n",
            "error = [-0.00035348]\n",
            "error = [-0.00251047]\n",
            "error = [0.9963889]\n",
            "error = [-0.0011175]\n",
            "error = [-7.723744e-13]\n",
            "error = [-0.01013033]\n",
            "error = [-0.10801684]\n",
            "error = [-0.00548763]\n",
            "error = [-0.00640511]\n",
            "error = [-0.00175095]\n",
            "error = [-2.0003201e-09]\n",
            "error = [-2.3240907e-18]\n",
            "error = [-7.8056723e-13]\n",
            "error = [-5.0089416e-06]\n",
            "error = [-0.00421166]\n",
            "error = [-0.02062893]\n",
            "error = [-7.089965e-09]\n",
            "error = [-0.00891514]\n",
            "error = [-0.00175997]\n",
            "error = [0.88112146]\n",
            "error = [-0.00900806]\n",
            "error = [0.992199]\n",
            "error = [-1.202179e-22]\n",
            "error = [-0.11686389]\n",
            "error = [-0.0049758]\n",
            "error = [-0.00147698]\n",
            "error = [-0.06020725]\n",
            "error = [0.9999451]\n",
            "error = [-0.00058857]\n",
            "error = [-2.054297e-20]\n",
            "error = [-0.00055585]\n",
            "error = [-1.459823e-22]\n",
            "error = [-0.00162913]\n",
            "error = [-0.04161283]\n",
            "error = [-0.00034744]\n",
            "error = [-0.00251051]\n",
            "error = [-0.06973539]\n",
            "error = [-9.222555e-13]\n",
            "error = [-0.00147792]\n",
            "error = [-0.0281347]\n",
            "error = [-8.644279e-09]\n",
            "error = [-1.2231798e-12]\n",
            "error = [-4.809747e-11]\n",
            "error = [-0.00822392]\n",
            "error = [-4.3450812e-21]\n",
            "error = [-2.6914591e-08]\n",
            "error = [-7.771847e-20]\n",
            "error = [-1.9471242e-18]\n",
            "error = [-0.04554689]\n",
            "error = [-0.0178697]\n",
            "error = [-7.3011005e-16]\n",
            "error = [-8.626677e-05]\n",
            "error = [-0.00284773]\n",
            "error = [-1.2942755e-06]\n",
            "error = [-0.00584889]\n",
            "error = [-6.3073136e-10]\n",
            "error = [-2.1384374e-21]\n",
            "error = [-0.09373618]\n",
            "error = [-0.00575156]\n",
            "error = [-2.5627185e-07]\n",
            "error = [-1.2134607e-05]\n",
            "error = [-0.02324164]\n",
            "error = [-0.07858014]\n",
            "error = [-8.978386e-23]\n",
            "error = [-1.7394263e-21]\n",
            "error = [-0.00058866]\n",
            "error = [-0.13565992]\n",
            "error = [-1.1872309e-14]\n",
            "error = [-0.31379136]\n",
            "error = [-0.0097714]\n",
            "error = [-1.7280032e-15]\n",
            "error = [-0.03084567]\n",
            "error = [-2.7181496e-13]\n",
            "error = [-1.6101158e-24]\n",
            "error = [-0.0014944]\n",
            "error = [-0.05921746]\n",
            "error = [-0.03157787]\n",
            "error = [-0.01854426]\n",
            "error = [-0.01015322]\n",
            "error = [-0.00052756]\n",
            "error = [-1.9123984e-06]\n",
            "error = [-4.279062e-05]\n",
            "error = [0.9104997]\n",
            "error = [-0.06909952]\n",
            "error = [-1.0168787e-17]\n",
            "error = [0.9963434]\n",
            "error = [-0.21803509]\n",
            "error = [-0.00011664]\n",
            "error = [-0.05410706]\n",
            "error = [-0.01425866]\n",
            "error = [-0.00465076]\n",
            "error = [-0.01293351]\n",
            "error = [-0.01562541]\n",
            "error = [-0.00129045]\n",
            "error = [-6.780929e-11]\n",
            "error = [-6.0928107e-12]\n",
            "error = [-0.00011394]\n",
            "error = [-9.0581e-07]\n",
            "error = [-2.351774e-10]\n",
            "error = [-6.2650473e-18]\n",
            "error = [-0.00244386]\n",
            "error = [-6.2209966e-07]\n",
            "error = [-0.01107649]\n",
            "error = [-0.00933247]\n",
            "error = [-1.7933344e-21]\n",
            "error = [-0.00047426]\n",
            "error = [-0.0006564]\n",
            "error = [-0.00236873]\n",
            "error = [-6.018438e-20]\n",
            "error = [-2.2444216e-07]\n",
            "error = [-0.09403315]\n",
            "error = [-0.00607723]\n",
            "error = [-0.06007103]\n",
            "error = [-4.5448724e-07]\n",
            "error = [-6.1698803e-22]\n",
            "error = [-3.8364607e-05]\n",
            "error = [-0.01195079]\n",
            "error = [-0.02339105]\n",
            "error = [-0.18922985]\n",
            "error = [-1.4326977e-13]\n",
            "error = [-0.00479678]\n",
            "error = [-7.266439e-07]\n",
            "error = [-0.00055474]\n",
            "error = [-0.06060337]\n",
            "error = [-2.6568017e-08]\n",
            "error = [-0.00349337]\n",
            "error = [-3.249514e-14]\n",
            "error = [-0.21008466]\n",
            "error = [0.94408184]\n",
            "error = [-8.877322e-08]\n",
            "error = [-9.04154e-12]\n",
            "error = [-0.00284027]\n",
            "error = [-0.07312846]\n",
            "error = [-0.04029799]\n",
            "error = [-0.10766003]\n",
            "error = [-0.00532705]\n",
            "error = [-1.9710709e-12]\n",
            "error = [-0.34162435]\n",
            "error = [-0.00024652]\n",
            "error = [-0.09911391]\n",
            "error = [-0.00232761]\n",
            "error = [0.92429334]\n",
            "error = [-0.06803951]\n",
            "error = [-0.0005713]\n",
            "error = [-0.00753274]\n",
            "error = [-2.6477384e-05]\n",
            "error = [-0.02037862]\n",
            "error = [-0.06781203]\n",
            "error = [-3.5688288e-08]\n",
            "error = [-0.00344255]\n",
            "error = [-0.32532194]\n",
            "error = [-0.01070285]\n",
            "error = [-0.01181857]\n",
            "error = [-0.5062269]\n",
            "error = [0.9977009]\n",
            "error = [-2.7042785e-22]\n",
            "error = [-1.8136848e-21]\n",
            "error = [-1.3822364e-17]\n",
            "error = [-5.2328124e-07]\n",
            "error = [-2.0803299e-08]\n",
            "error = [-1.2184866e-10]\n",
            "error = [-0.0010262]\n",
            "error = [-0.00693984]\n",
            "error = [-1.1581429e-06]\n",
            "error = [-1.719181e-21]\n",
            "error = [-0.05457555]\n",
            "error = [0.901579]\n",
            "error = [-0.01880623]\n",
            "error = [-3.4541511e-18]\n",
            "error = [-0.0015862]\n",
            "error = [-1.4422093e-12]\n",
            "error = [-1.5591385e-23]\n",
            "error = [-0.00303154]\n",
            "error = [-0.00130589]\n",
            "error = [-0.00152132]\n",
            "error = [-1.8689195e-07]\n",
            "error = [-0.064144]\n",
            "error = [-5.4145503e-06]\n",
            "error = [-0.0133753]\n",
            "error = [-1.04738575e-07]\n",
            "error = [-0.00602774]\n",
            "error = [-9.655021e-13]\n",
            "error = [-0.2284062]\n",
            "error = [-2.1957247e-08]\n",
            "error = [-0.00046795]\n",
            "error = [-0.00138701]\n",
            "error = [-0.00016086]\n",
            "error = [-0.04935998]\n",
            "error = [-0.03701499]\n",
            "error = [-0.49271658]\n",
            "error = [-0.0009887]\n",
            "error = [-3.7292343e-06]\n",
            "error = [-0.0065794]\n",
            "error = [-0.20898294]\n",
            "error = [-0.0486851]\n",
            "error = [-1.31524995e-08]\n",
            "error = [0.78740466]\n",
            "error = [-0.03598484]\n",
            "error = [-0.18421268]\n",
            "error = [-0.02426635]\n",
            "error = [-0.06418949]\n",
            "error = [-5.7524955e-15]\n",
            "error = [-0.01853118]\n",
            "error = [-5.866853e-06]\n",
            "error = [-0.0815147]\n",
            "error = [-0.00571757]\n",
            "error = [-0.00158208]\n",
            "error = [-0.03123454]\n",
            "error = [-2.6605123e-09]\n",
            "error = [-2.023432e-05]\n",
            "error = [-2.7643099e-25]\n",
            "error = [-0.00348202]\n",
            "error = [-5.6880737e-05]\n",
            "error = [-0.0008364]\n",
            "error = [-0.18420678]\n",
            "error = [-1.5483057e-21]\n",
            "error = [-0.05243972]\n",
            "error = [-0.00199649]\n",
            "error = [-0.08765207]\n",
            "error = [-0.00076305]\n",
            "error = [-0.08650941]\n",
            "error = [-2.933462e-11]\n",
            "error = [-0.1574126]\n",
            "error = [-0.0035309]\n",
            "error = [-0.4624614]\n",
            "error = [-2.709307e-22]\n",
            "error = [-4.0809545e-21]\n",
            "error = [-0.00043444]\n",
            "error = [-8.363132e-22]\n",
            "error = [-0.00227136]\n",
            "error = [-0.00248546]\n",
            "error = [-0.01040839]\n",
            "error = [-0.1137074]\n",
            "error = [-0.04775643]\n",
            "error = [-0.09440497]\n",
            "error = [-0.02427866]\n",
            "error = [-9.2914155e-07]\n",
            "error = [-0.04192373]\n",
            "error = [-0.14628078]\n",
            "error = [-1.6609032e-06]\n",
            "error = [-3.502394e-11]\n",
            "error = [-3.4756048e-17]\n",
            "error = [-6.26757e-14]\n",
            "error = [-0.00957718]\n",
            "error = [-3.9000522e-20]\n",
            "error = [-6.6717614e-16]\n",
            "error = [-6.231815e-07]\n",
            "error = [-0.00103627]\n",
            "error = [-4.2825826e-21]\n",
            "error = [-5.3086667e-05]\n",
            "error = [-2.9021683e-06]\n",
            "error = [-0.02803841]\n",
            "error = [-1.6307888e-10]\n",
            "error = [-0.00777594]\n",
            "error = [-1.3734365e-19]\n",
            "error = [-2.5742263e-15]\n",
            "error = [-0.0892093]\n",
            "error = [-1.1281138e-10]\n",
            "error = [-2.2458233e-08]\n",
            "error = [-0.00289288]\n",
            "error = [-0.00023895]\n",
            "error = [-1.04437567e-22]\n",
            "error = [-4.0443018e-14]\n",
            "error = [-2.4888476e-22]\n",
            "error = [-0.04443649]\n",
            "error = [-0.00158543]\n",
            "error = [-1.9477512e-15]\n",
            "error = [-5.49976e-22]\n",
            "error = [-0.00010738]\n",
            "error = [-0.00065749]\n",
            "error = [-2.0453002e-05]\n",
            "error = [-1.3083639e-05]\n",
            "error = [-0.6635171]\n",
            "error = [-0.00389318]\n",
            "error = [-5.9692817e-19]\n",
            "error = [-2.3859713e-22]\n",
            "error = [-0.06959245]\n",
            "error = [-1.5680426e-17]\n",
            "error = [-1.9298849e-13]\n",
            "error = [-0.00013969]\n",
            "error = [-0.00440648]\n",
            "error = [-0.05028446]\n",
            "error = [-6.854198e-05]\n",
            "error = [-0.43093154]\n",
            "error = [-4.0576012e-13]\n",
            "error = [-8.741318e-21]\n",
            "error = [-3.6049885e-14]\n",
            "error = [-2.1072752e-07]\n",
            "error = [-2.0432937e-08]\n",
            "error = [-7.4369177e-06]\n",
            "error = [-1.4779729e-21]\n",
            "error = [-0.00056733]\n",
            "error = [-0.00282462]\n",
            "error = [-2.4769576e-17]\n",
            "error = [-1.0222356e-22]\n",
            "error = [-9.368636e-19]\n",
            "error = [-0.07728115]\n",
            "error = [-5.745479e-22]\n",
            "error = [-1.6041972e-12]\n",
            "error = [-0.01660371]\n",
            "error = [-0.00921303]\n",
            "error = [-0.00039729]\n",
            "error = [-0.05236331]\n",
            "error = [-0.00010131]\n",
            "error = [-9.977121e-08]\n",
            "error = [-4.1056373e-07]\n",
            "error = [-0.03684447]\n",
            "error = [-1.2607747e-10]\n",
            "error = [-4.069532e-05]\n",
            "error = [-0.00987706]\n",
            "error = [-0.00697128]\n",
            "error = [-4.8437755e-14]\n",
            "error = [-4.652127e-05]\n",
            "error = [-0.00139985]\n",
            "error = [-1.9673451e-12]\n",
            "error = [-1.1069247e-22]\n",
            "error = [-1.1923828e-21]\n",
            "error = [-0.00144773]\n",
            "error = [-7.652431e-10]\n",
            "error = [-0.035372]\n",
            "error = [-0.02677687]\n",
            "error = [1.]\n",
            "error = [-1.0029538e-06]\n",
            "error = [-0.00142204]\n",
            "error = [-0.0115938]\n",
            "error = [-2.6926153e-05]\n",
            "error = [-0.00019281]\n",
            "error = [-5.9423866e-25]\n",
            "error = [-0.07150134]\n",
            "error = [-3.254874e-21]\n",
            "error = [-0.03867406]\n",
            "error = [-0.00079118]\n",
            "error = [-0.01967554]\n",
            "error = [-7.095252e-05]\n",
            "error = [-0.04486274]\n",
            "error = [-0.00192588]\n",
            "error = [-2.5792592e-06]\n",
            "error = [-2.6637954e-05]\n",
            "error = [-0.04555555]\n",
            "error = [-0.00014354]\n",
            "error = [-6.326075e-24]\n",
            "error = [-0.08726794]\n",
            "error = [0.9890806]\n",
            "error = [-2.3565636e-15]\n",
            "error = [-0.06501948]\n",
            "error = [-0.00097632]\n",
            "error = [-8.282159e-07]\n",
            "error = [-0.0002072]\n",
            "error = [-9.400446e-11]\n",
            "error = [-0.01277343]\n",
            "error = [-4.9509736e-06]\n",
            "error = [-0.00083865]\n",
            "error = [-3.0392922e-17]\n",
            "error = [-0.00624198]\n",
            "error = [-0.00048898]\n",
            "error = [-4.9265195e-06]\n",
            "error = [-0.07371601]\n",
            "error = [0.7456838]\n",
            "error = [-0.01987194]\n",
            "error = [-0.01618744]\n",
            "error = [-1.0488376e-10]\n",
            "error = [-0.06257352]\n",
            "error = [0.999998]\n",
            "error = [-1.2117408e-16]\n",
            "error = [-0.01851532]\n",
            "error = [-0.00072516]\n",
            "error = [-1.6551142e-07]\n",
            "error = [-2.900382e-22]\n",
            "error = [-0.0009545]\n",
            "error = [-0.00033846]\n",
            "error = [-2.9964533e-26]\n",
            "error = [-0.01237375]\n",
            "error = [-1.1941136e-05]\n",
            "error = [-0.07163969]\n",
            "error = [-1.3412326e-18]\n",
            "error = [-0.01872342]\n",
            "error = [0.9675657]\n",
            "error = [-0.00336917]\n",
            "error = [0.9220182]\n",
            "error = [-0.01390469]\n",
            "error = [-8.0899246e-20]\n",
            "error = [-5.963897e-16]\n",
            "error = [-9.356757e-16]\n",
            "error = [-0.00067714]\n",
            "error = [-0.01627006]\n",
            "error = [-5.1793245e-06]\n",
            "error = [-6.41995e-06]\n",
            "error = [-0.05163381]\n",
            "error = [-0.00572626]\n",
            "error = [-7.238565e-12]\n",
            "error = [-0.00093959]\n",
            "error = [-2.5118181e-08]\n",
            "error = [-1.1219352e-15]\n",
            "error = [-0.03978582]\n",
            "error = [-0.01751286]\n",
            "error = [-0.1932409]\n",
            "error = [-0.00640437]\n",
            "error = [0.75528497]\n",
            "error = [-0.02918608]\n",
            "error = [-0.04997957]\n",
            "error = [-2.2042764e-08]\n",
            "error = [-4.7028465e-07]\n",
            "error = [-3.365022e-06]\n",
            "error = [-0.04019197]\n",
            "error = [-0.00010074]\n",
            "error = [-0.05645658]\n",
            "error = [-3.936897e-13]\n",
            "error = [-4.363447e-05]\n",
            "error = [-0.02178177]\n",
            "error = [-0.00015833]\n",
            "error = [-3.793503e-06]\n",
            "error = [-0.01298733]\n",
            "error = [0.9997992]\n",
            "error = [-6.837904e-06]\n",
            "error = [-0.00023295]\n",
            "error = [-0.00153316]\n",
            "error = [-2.830825e-06]\n",
            "error = [-5.3040674e-07]\n",
            "error = [-0.00607157]\n",
            "error = [-1.6362396e-12]\n",
            "error = [-9.097467e-23]\n",
            "error = [-1.8182072e-05]\n",
            "error = [-3.5261132e-16]\n",
            "error = [-0.02036062]\n",
            "error = [-0.03771149]\n",
            "error = [-7.8508936e-07]\n",
            "error = [-0.03768477]\n",
            "error = [-0.04464742]\n",
            "error = [-0.0035272]\n",
            "error = [-0.00077872]\n",
            "error = [-0.00750927]\n",
            "error = [-2.14335e-05]\n",
            "error = [-2.7346854e-05]\n",
            "error = [-2.5967754e-06]\n",
            "error = [-3.946899e-06]\n",
            "error = [-0.00029426]\n",
            "error = [-0.07639045]\n",
            "error = [-5.916891e-11]\n",
            "error = [-3.0006619e-05]\n",
            "error = [-0.0947614]\n",
            "error = [0.9763957]\n",
            "error = [-0.00065474]\n",
            "error = [-3.307623e-19]\n",
            "error = [-0.00842012]\n",
            "error = [-2.4641715e-06]\n",
            "error = [-0.00343046]\n",
            "error = [0.98721236]\n",
            "error = [-1.4054627e-22]\n",
            "error = [-0.01076314]\n",
            "error = [-5.435562e-05]\n",
            "error = [-0.03746044]\n",
            "error = [-0.01115106]\n",
            "error = [-3.2041953e-07]\n",
            "error = [-1.4851042e-07]\n",
            "error = [-0.00017105]\n",
            "error = [-3.948137e-14]\n",
            "error = [-1.5607256e-14]\n",
            "error = [-0.01297694]\n",
            "error = [-0.00714402]\n",
            "error = [-0.01209296]\n",
            "error = [-0.00160396]\n",
            "error = [-0.03978424]\n",
            "error = [-1.1344428e-13]\n",
            "error = [-5.798717e-06]\n",
            "error = [-1.01778685e-17]\n",
            "error = [-1.4368542e-17]\n",
            "error = [-3.807197e-11]\n",
            "error = [-0.06007013]\n",
            "error = [-0.08757329]\n",
            "error = [-0.2534746]\n",
            "error = [-1.2285069e-14]\n",
            "error = [-0.07524719]\n",
            "error = [-0.00142461]\n",
            "error = [-0.07126398]\n",
            "error = [-0.00586507]\n",
            "error = [-6.6094726e-06]\n",
            "error = [-0.03234776]\n",
            "error = [-0.00367149]\n",
            "error = [0.9999572]\n",
            "error = [-0.10397366]\n",
            "error = [-1.6598488e-09]\n",
            "error = [-0.10682705]\n",
            "error = [-0.01346215]\n",
            "error = [-2.9566573e-25]\n",
            "error = [-0.0080512]\n",
            "error = [-1.5162302e-19]\n",
            "error = [-0.00234096]\n",
            "error = [-6.7930116e-21]\n",
            "error = [-1.4004563e-18]\n",
            "error = [-0.01400039]\n",
            "error = [-0.0102539]\n",
            "error = [-3.495845e-05]\n",
            "error = [0.96658075]\n",
            "error = [0.7326331]\n",
            "error = [-4.200266e-08]\n",
            "error = [-6.50419e-14]\n",
            "error = [-1.4802023e-06]\n",
            "error = [-0.75229526]\n",
            "error = [-1.6131474e-12]\n",
            "error = [-6.0199963e-21]\n",
            "error = [-0.02358365]\n",
            "error = [-0.04621517]\n",
            "error = [-1.5189249e-12]\n",
            "error = [-0.09054752]\n",
            "error = [-0.03227849]\n",
            "error = [-0.18540469]\n",
            "error = [-0.22305956]\n",
            "error = [-1.4188024e-08]\n",
            "error = [-7.5532057e-07]\n",
            "error = [-8.1242075e-16]\n",
            "error = [-0.01267041]\n",
            "error = [-0.00660668]\n",
            "error = [-4.33643e-17]\n",
            "error = [-9.162316e-12]\n",
            "error = [-0.02808965]\n",
            "error = [-0.03211429]\n",
            "error = [-0.1869373]\n",
            "error = [-7.258518e-19]\n",
            "error = [-0.02076434]\n",
            "error = [-0.00333876]\n",
            "error = [-4.9463534e-07]\n",
            "error = [-0.00649753]\n",
            "error = [-0.00070169]\n",
            "error = [-0.00095192]\n",
            "error = [-4.9589564e-13]\n",
            "error = [-0.00163476]\n",
            "error = [-2.3750594e-19]\n",
            "error = [-4.1382293e-05]\n",
            "error = [-0.02393549]\n",
            "error = [-5.102225e-05]\n",
            "error = [-7.5833764e-16]\n",
            "error = [-0.02053599]\n",
            "error = [-1.3545156e-15]\n",
            "error = [-0.00061659]\n",
            "error = [-1.4657832e-10]\n",
            "error = [-0.25299275]\n",
            "error = [-1.5650769e-19]\n",
            "error = [-0.04539767]\n",
            "error = [0.00237221]\n",
            "error = [-7.3284745e-16]\n",
            "error = [-4.1320257e-07]\n",
            "error = [-0.00411572]\n",
            "error = [-0.00378886]\n",
            "error = [-0.44913292]\n",
            "error = [-0.00181935]\n",
            "error = [-4.1157375e-22]\n",
            "error = [-0.00230953]\n",
            "error = [-2.729399e-12]\n",
            "error = [-1.2767375e-06]\n",
            "error = [-0.00066122]\n",
            "error = [-1.4317115e-24]\n",
            "error = [0.9994263]\n",
            "error = [-3.7483083e-22]\n",
            "error = [-1.0620184e-05]\n",
            "error = [-8.962061e-06]\n",
            "error = [-2.415127e-08]\n",
            "error = [-7.916302e-05]\n",
            "error = [-1.8438227e-08]\n",
            "error = [-0.03940079]\n",
            "error = [-1.1691821e-05]\n",
            "error = [0.99134433]\n",
            "error = [-5.3231054e-07]\n",
            "error = [-0.10225447]\n",
            "error = [-0.00166324]\n",
            "error = [-0.00309213]\n",
            "error = [-0.13580634]\n",
            "error = [-7.0673846e-06]\n",
            "error = [-2.8739257e-12]\n",
            "error = [-0.0035984]\n",
            "error = [-0.02156228]\n",
            "error = [-0.00055885]\n",
            "error = [-4.89688e-05]\n",
            "error = [-0.00382937]\n",
            "error = [-9.885636e-06]\n",
            "error = [-0.00014499]\n",
            "error = [-6.5379323e-22]\n",
            "error = [-2.6091891e-08]\n",
            "error = [1.]\n",
            "error = [-0.03952022]\n",
            "error = [-7.4558796e-22]\n",
            "error = [-2.8585213e-15]\n",
            "error = [0.8656532]\n",
            "error = [-0.00919319]\n",
            "error = [-0.00571248]\n",
            "error = [-3.149776e-11]\n",
            "error = [-0.04801505]\n",
            "error = [-1.7470033e-14]\n",
            "error = [-0.01908732]\n",
            "error = [-0.03945137]\n",
            "error = [-0.06025023]\n",
            "error = [-2.3809598e-12]\n",
            "error = [-1.7374823e-22]\n",
            "error = [-0.01613955]\n",
            "error = [-7.868887e-21]\n",
            "error = [-0.00555835]\n",
            "error = [-3.761084e-22]\n",
            "error = [-1.1117563e-24]\n",
            "error = [-0.00040125]\n",
            "error = [-1.6730366e-16]\n",
            "error = [-0.00025126]\n",
            "error = [-7.5026524e-05]\n",
            "error = [-3.0121503e-10]\n",
            "error = [-0.06887799]\n",
            "error = [-0.37399995]\n",
            "error = [-1.5907313e-05]\n",
            "error = [-0.03772729]\n",
            "error = [-1.02687075e-07]\n",
            "error = [-1.0595486e-21]\n",
            "error = [-0.03606791]\n",
            "error = [-0.00091457]\n",
            "error = [-9.300562e-17]\n",
            "error = [-4.9197173e-21]\n",
            "error = [-6.901268e-08]\n",
            "error = [-1.4721771e-21]\n",
            "error = [-0.00272735]\n",
            "error = [-1.3742986e-15]\n",
            "error = [-7.0510455e-06]\n",
            "error = [-0.04017273]\n",
            "error = [-1.3687977e-18]\n",
            "error = [-1.7399056e-08]\n",
            "error = [-0.00041666]\n",
            "error = [-2.8542242e-25]\n",
            "error = [-1.1204548e-16]\n",
            "error = [-0.00024798]\n",
            "error = [-0.0004043]\n",
            "error = [-0.26525915]\n",
            "error = [-0.07620661]\n",
            "error = [-0.00795421]\n",
            "error = [-0.05115491]\n",
            "error = [-1.1029099e-07]\n",
            "error = [-6.445776e-05]\n",
            "error = [-1.1579618e-06]\n",
            "error = [-0.62023354]\n",
            "error = [-8.8664654e-18]\n",
            "error = [-0.00014375]\n",
            "error = [-8.051526e-07]\n",
            "error = [-6.830104e-17]\n",
            "error = [-6.26928e-14]\n",
            "error = [-0.00245508]\n",
            "error = [-0.00045473]\n",
            "error = [-6.171527e-15]\n",
            "error = [-6.025746e-19]\n",
            "error = [-0.00182369]\n",
            "error = [-2.435239e-05]\n",
            "error = [-0.00048234]\n",
            "error = [-1.2426369e-07]\n",
            "error = [-0.00225919]\n",
            "error = [-2.8072795e-21]\n",
            "error = [-0.09991782]\n",
            "error = [-1.2666769e-11]\n",
            "error = [-0.55445075]\n",
            "error = [-0.00016275]\n",
            "error = [-8.11983e-18]\n",
            "error = [-1.7616801e-06]\n",
            "error = [-0.00175451]\n",
            "error = [-0.05501653]\n",
            "error = [-3.086848e-05]\n",
            "error = [-2.4037657e-16]\n",
            "error = [-4.1202953e-21]\n",
            "error = [-0.03040405]\n",
            "error = [-7.259908e-14]\n",
            "error = [-0.001813]\n",
            "error = [-0.0039444]\n",
            "error = [-8.65579e-05]\n",
            "error = [-7.51177e-24]\n",
            "error = [-0.00064476]\n",
            "error = [-0.04057343]\n",
            "error = [-5.961116e-18]\n",
            "error = [-0.0088022]\n",
            "error = [-8.434495e-05]\n",
            "error = [-3.7068845e-23]\n",
            "error = [-6.4436493e-21]\n",
            "error = [-1.254505e-05]\n",
            "error = [0.9946096]\n",
            "error = [-3.4379711e-06]\n",
            "error = [-2.0984597e-22]\n",
            "error = [-6.0780656e-17]\n",
            "error = [-0.01651384]\n",
            "error = [-1.6736613e-17]\n",
            "error = [-0.00080631]\n",
            "error = [-1.1363545e-06]\n",
            "error = [-0.0002788]\n",
            "error = [-0.00024383]\n",
            "error = [-0.40716517]\n",
            "error = [-0.02126378]\n",
            "error = [-1.3018246e-12]\n",
            "error = [-4.714808e-16]\n",
            "error = [-9.575879e-14]\n",
            "error = [-0.05748752]\n",
            "error = [-0.00060728]\n",
            "error = [-0.01770014]\n",
            "error = [-2.493434e-17]\n",
            "error = [0.97201306]\n",
            "error = [-9.550951e-07]\n",
            "error = [-1.06014755e-20]\n",
            "error = [-8.223616e-11]\n",
            "error = [-0.00043991]\n",
            "error = [-0.0106873]\n",
            "error = [-3.208446e-15]\n",
            "error = [0.9882679]\n",
            "error = [-0.01112793]\n",
            "error = [-0.03251367]\n",
            "error = [-1.1196247e-18]\n",
            "error = [-0.01288833]\n",
            "error = [-0.00193701]\n",
            "error = [-3.080175e-19]\n",
            "error = [-0.00171721]\n",
            "error = [-9.784116e-18]\n",
            "error = [-2.0851077e-13]\n",
            "error = [-0.00202414]\n",
            "error = [0.99762464]\n",
            "error = [-0.0600142]\n",
            "error = [-0.01800423]\n",
            "error = [-1.6635968e-18]\n",
            "error = [-0.02817572]\n",
            "error = [-0.00866556]\n",
            "error = [-0.00031252]\n",
            "error = [-0.14599906]\n",
            "error = [-1.8524109e-14]\n",
            "error = [-3.917271e-06]\n",
            "error = [-0.00687345]\n",
            "error = [-0.00013442]\n",
            "error = [-0.88468885]\n",
            "error = [-0.00068729]\n",
            "error = [-0.00518769]\n",
            "error = [-3.530623e-23]\n",
            "error = [0.98083735]\n",
            "error = [-6.8521785e-18]\n",
            "error = [-8.233242e-17]\n",
            "error = [-5.781262e-14]\n",
            "error = [-4.748716e-05]\n",
            "error = [-3.524012e-05]\n",
            "error = [-0.14638658]\n",
            "error = [-0.00967014]\n",
            "error = [-9.789093e-05]\n",
            "error = [-0.01161241]\n",
            "error = [-7.3059084e-05]\n",
            "error = [-0.09280237]\n",
            "error = [0.9679744]\n"
          ],
          "name": "stdout"
        }
      ]
    }
  ]
}